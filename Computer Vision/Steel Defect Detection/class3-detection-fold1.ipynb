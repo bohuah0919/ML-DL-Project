{
 "cells": [
  {
   "cell_type": "markdown",
   "metadata": {},
   "source": [
    "# Packages and Data"
   ]
  },
  {
   "cell_type": "code",
   "execution_count": 1,
   "metadata": {
    "execution": {
     "iopub.execute_input": "2022-10-29T03:57:59.173283Z",
     "iopub.status.busy": "2022-10-29T03:57:59.172436Z",
     "iopub.status.idle": "2022-10-29T03:58:20.191353Z",
     "shell.execute_reply": "2022-10-29T03:58:20.190299Z",
     "shell.execute_reply.started": "2022-10-29T03:57:59.173198Z"
    }
   },
   "outputs": [
    {
     "name": "stdout",
     "output_type": "stream",
     "text": [
      "\u001b[33mWARNING: Running pip as the 'root' user can result in broken permissions and conflicting behaviour with the system package manager. It is recommended to use a virtual environment instead: https://pip.pypa.io/warnings/venv\u001b[0m\u001b[33m\n",
      "\u001b[0m"
     ]
    }
   ],
   "source": [
    "!pip install segmentation_models_pytorch -q\n",
    "import segmentation_models_pytorch as smp"
   ]
  },
  {
   "cell_type": "code",
   "execution_count": 2,
   "metadata": {
    "execution": {
     "iopub.execute_input": "2022-10-29T03:58:20.194549Z",
     "iopub.status.busy": "2022-10-29T03:58:20.193608Z",
     "iopub.status.idle": "2022-10-29T03:58:22.470731Z",
     "shell.execute_reply": "2022-10-29T03:58:22.469769Z",
     "shell.execute_reply.started": "2022-10-29T03:58:20.194506Z"
    }
   },
   "outputs": [],
   "source": [
    "import os\n",
    "import matplotlib.pyplot as plt\n",
    "import torch\n",
    "import torchvision\n",
    "from torchvision import datasets, transforms\n",
    "from torch.utils.data import DataLoader, Dataset\n",
    "import numpy as np\n",
    "import pandas as pd\n",
    "from torch import nn, optim\n",
    "from PIL import Image\n",
    "import math\n",
    "import torch.nn.functional as F\n",
    "from torch.nn import Parameter\n",
    "import cv2\n",
    "import albumentations as A\n",
    "from albumentations.pytorch import ToTensorV2\n",
    "from tqdm import tqdm\n",
    "file_dir  = \"../input/severstal-steel-defect-detection/train_images\"\n",
    "df = pd.read_csv(\"../input/severstal-steel-defect-detection/train.csv\")"
   ]
  },
  {
   "cell_type": "code",
   "execution_count": 3,
   "metadata": {
    "execution": {
     "iopub.execute_input": "2022-10-29T03:58:22.472566Z",
     "iopub.status.busy": "2022-10-29T03:58:22.472179Z",
     "iopub.status.idle": "2022-10-29T03:58:22.498249Z",
     "shell.execute_reply": "2022-10-29T03:58:22.497373Z",
     "shell.execute_reply.started": "2022-10-29T03:58:22.472529Z"
    }
   },
   "outputs": [
    {
     "data": {
      "text/html": [
       "<div>\n",
       "<style scoped>\n",
       "    .dataframe tbody tr th:only-of-type {\n",
       "        vertical-align: middle;\n",
       "    }\n",
       "\n",
       "    .dataframe tbody tr th {\n",
       "        vertical-align: top;\n",
       "    }\n",
       "\n",
       "    .dataframe thead th {\n",
       "        text-align: right;\n",
       "    }\n",
       "</style>\n",
       "<table border=\"1\" class=\"dataframe\">\n",
       "  <thead>\n",
       "    <tr style=\"text-align: right;\">\n",
       "      <th></th>\n",
       "      <th>ImageId</th>\n",
       "      <th>ClassId</th>\n",
       "      <th>EncodedPixels</th>\n",
       "    </tr>\n",
       "  </thead>\n",
       "  <tbody>\n",
       "    <tr>\n",
       "      <th>0</th>\n",
       "      <td>0002cc93b.jpg</td>\n",
       "      <td>1</td>\n",
       "      <td>29102 12 29346 24 29602 24 29858 24 30114 24 3...</td>\n",
       "    </tr>\n",
       "    <tr>\n",
       "      <th>1</th>\n",
       "      <td>0007a71bf.jpg</td>\n",
       "      <td>3</td>\n",
       "      <td>18661 28 18863 82 19091 110 19347 110 19603 11...</td>\n",
       "    </tr>\n",
       "    <tr>\n",
       "      <th>2</th>\n",
       "      <td>000a4bcdd.jpg</td>\n",
       "      <td>1</td>\n",
       "      <td>37607 3 37858 8 38108 14 38359 20 38610 25 388...</td>\n",
       "    </tr>\n",
       "    <tr>\n",
       "      <th>3</th>\n",
       "      <td>000f6bf48.jpg</td>\n",
       "      <td>4</td>\n",
       "      <td>131973 1 132228 4 132483 6 132738 8 132993 11 ...</td>\n",
       "    </tr>\n",
       "    <tr>\n",
       "      <th>4</th>\n",
       "      <td>0014fce06.jpg</td>\n",
       "      <td>3</td>\n",
       "      <td>229501 11 229741 33 229981 55 230221 77 230468...</td>\n",
       "    </tr>\n",
       "    <tr>\n",
       "      <th>...</th>\n",
       "      <td>...</td>\n",
       "      <td>...</td>\n",
       "      <td>...</td>\n",
       "    </tr>\n",
       "    <tr>\n",
       "      <th>7090</th>\n",
       "      <td>ffcf72ecf.jpg</td>\n",
       "      <td>3</td>\n",
       "      <td>121911 34 122167 101 122422 169 122678 203 122...</td>\n",
       "    </tr>\n",
       "    <tr>\n",
       "      <th>7091</th>\n",
       "      <td>fff02e9c5.jpg</td>\n",
       "      <td>3</td>\n",
       "      <td>207523 3 207777 9 208030 15 208283 22 208537 2...</td>\n",
       "    </tr>\n",
       "    <tr>\n",
       "      <th>7092</th>\n",
       "      <td>fffe98443.jpg</td>\n",
       "      <td>3</td>\n",
       "      <td>105929 5 106177 14 106424 24 106672 33 106923 ...</td>\n",
       "    </tr>\n",
       "    <tr>\n",
       "      <th>7093</th>\n",
       "      <td>ffff4eaa8.jpg</td>\n",
       "      <td>3</td>\n",
       "      <td>16899 7 17155 20 17411 34 17667 47 17923 60 18...</td>\n",
       "    </tr>\n",
       "    <tr>\n",
       "      <th>7094</th>\n",
       "      <td>ffffd67df.jpg</td>\n",
       "      <td>3</td>\n",
       "      <td>30931 43 31103 127 31275 211 31489 253 31745 2...</td>\n",
       "    </tr>\n",
       "  </tbody>\n",
       "</table>\n",
       "<p>7095 rows × 3 columns</p>\n",
       "</div>"
      ],
      "text/plain": [
       "            ImageId  ClassId  \\\n",
       "0     0002cc93b.jpg        1   \n",
       "1     0007a71bf.jpg        3   \n",
       "2     000a4bcdd.jpg        1   \n",
       "3     000f6bf48.jpg        4   \n",
       "4     0014fce06.jpg        3   \n",
       "...             ...      ...   \n",
       "7090  ffcf72ecf.jpg        3   \n",
       "7091  fff02e9c5.jpg        3   \n",
       "7092  fffe98443.jpg        3   \n",
       "7093  ffff4eaa8.jpg        3   \n",
       "7094  ffffd67df.jpg        3   \n",
       "\n",
       "                                          EncodedPixels  \n",
       "0     29102 12 29346 24 29602 24 29858 24 30114 24 3...  \n",
       "1     18661 28 18863 82 19091 110 19347 110 19603 11...  \n",
       "2     37607 3 37858 8 38108 14 38359 20 38610 25 388...  \n",
       "3     131973 1 132228 4 132483 6 132738 8 132993 11 ...  \n",
       "4     229501 11 229741 33 229981 55 230221 77 230468...  \n",
       "...                                                 ...  \n",
       "7090  121911 34 122167 101 122422 169 122678 203 122...  \n",
       "7091  207523 3 207777 9 208030 15 208283 22 208537 2...  \n",
       "7092  105929 5 106177 14 106424 24 106672 33 106923 ...  \n",
       "7093  16899 7 17155 20 17411 34 17667 47 17923 60 18...  \n",
       "7094  30931 43 31103 127 31275 211 31489 253 31745 2...  \n",
       "\n",
       "[7095 rows x 3 columns]"
      ]
     },
     "execution_count": 3,
     "metadata": {},
     "output_type": "execute_result"
    }
   ],
   "source": [
    "df"
   ]
  },
  {
   "cell_type": "code",
   "execution_count": 4,
   "metadata": {
    "execution": {
     "iopub.execute_input": "2022-10-29T03:58:22.501949Z",
     "iopub.status.busy": "2022-10-29T03:58:22.501618Z",
     "iopub.status.idle": "2022-10-29T03:58:22.512697Z",
     "shell.execute_reply": "2022-10-29T03:58:22.511761Z",
     "shell.execute_reply.started": "2022-10-29T03:58:22.501921Z"
    }
   },
   "outputs": [],
   "source": [
    "train = df[df[\"ClassId\"]==3]"
   ]
  },
  {
   "cell_type": "code",
   "execution_count": 5,
   "metadata": {
    "execution": {
     "iopub.execute_input": "2022-10-29T03:58:22.514960Z",
     "iopub.status.busy": "2022-10-29T03:58:22.514490Z",
     "iopub.status.idle": "2022-10-29T03:58:22.530572Z",
     "shell.execute_reply": "2022-10-29T03:58:22.529760Z",
     "shell.execute_reply.started": "2022-10-29T03:58:22.514914Z"
    }
   },
   "outputs": [
    {
     "data": {
      "text/html": [
       "<div>\n",
       "<style scoped>\n",
       "    .dataframe tbody tr th:only-of-type {\n",
       "        vertical-align: middle;\n",
       "    }\n",
       "\n",
       "    .dataframe tbody tr th {\n",
       "        vertical-align: top;\n",
       "    }\n",
       "\n",
       "    .dataframe thead th {\n",
       "        text-align: right;\n",
       "    }\n",
       "</style>\n",
       "<table border=\"1\" class=\"dataframe\">\n",
       "  <thead>\n",
       "    <tr style=\"text-align: right;\">\n",
       "      <th></th>\n",
       "      <th>ImageId</th>\n",
       "      <th>ClassId</th>\n",
       "      <th>EncodedPixels</th>\n",
       "    </tr>\n",
       "  </thead>\n",
       "  <tbody>\n",
       "    <tr>\n",
       "      <th>1</th>\n",
       "      <td>0007a71bf.jpg</td>\n",
       "      <td>3</td>\n",
       "      <td>18661 28 18863 82 19091 110 19347 110 19603 11...</td>\n",
       "    </tr>\n",
       "    <tr>\n",
       "      <th>4</th>\n",
       "      <td>0014fce06.jpg</td>\n",
       "      <td>3</td>\n",
       "      <td>229501 11 229741 33 229981 55 230221 77 230468...</td>\n",
       "    </tr>\n",
       "    <tr>\n",
       "      <th>5</th>\n",
       "      <td>0025bde0c.jpg</td>\n",
       "      <td>3</td>\n",
       "      <td>8458 14 8707 35 8963 48 9219 71 9475 88 9731 8...</td>\n",
       "    </tr>\n",
       "    <tr>\n",
       "      <th>11</th>\n",
       "      <td>0046839bd.jpg</td>\n",
       "      <td>3</td>\n",
       "      <td>152926 1 153180 4 153434 6 153689 8 153943 11 ...</td>\n",
       "    </tr>\n",
       "    <tr>\n",
       "      <th>12</th>\n",
       "      <td>005d86c25.jpg</td>\n",
       "      <td>3</td>\n",
       "      <td>331 18 587 53 843 89 1099 124 1355 159 1611 17...</td>\n",
       "    </tr>\n",
       "    <tr>\n",
       "      <th>...</th>\n",
       "      <td>...</td>\n",
       "      <td>...</td>\n",
       "      <td>...</td>\n",
       "    </tr>\n",
       "    <tr>\n",
       "      <th>7090</th>\n",
       "      <td>ffcf72ecf.jpg</td>\n",
       "      <td>3</td>\n",
       "      <td>121911 34 122167 101 122422 169 122678 203 122...</td>\n",
       "    </tr>\n",
       "    <tr>\n",
       "      <th>7091</th>\n",
       "      <td>fff02e9c5.jpg</td>\n",
       "      <td>3</td>\n",
       "      <td>207523 3 207777 9 208030 15 208283 22 208537 2...</td>\n",
       "    </tr>\n",
       "    <tr>\n",
       "      <th>7092</th>\n",
       "      <td>fffe98443.jpg</td>\n",
       "      <td>3</td>\n",
       "      <td>105929 5 106177 14 106424 24 106672 33 106923 ...</td>\n",
       "    </tr>\n",
       "    <tr>\n",
       "      <th>7093</th>\n",
       "      <td>ffff4eaa8.jpg</td>\n",
       "      <td>3</td>\n",
       "      <td>16899 7 17155 20 17411 34 17667 47 17923 60 18...</td>\n",
       "    </tr>\n",
       "    <tr>\n",
       "      <th>7094</th>\n",
       "      <td>ffffd67df.jpg</td>\n",
       "      <td>3</td>\n",
       "      <td>30931 43 31103 127 31275 211 31489 253 31745 2...</td>\n",
       "    </tr>\n",
       "  </tbody>\n",
       "</table>\n",
       "<p>5150 rows × 3 columns</p>\n",
       "</div>"
      ],
      "text/plain": [
       "            ImageId  ClassId  \\\n",
       "1     0007a71bf.jpg        3   \n",
       "4     0014fce06.jpg        3   \n",
       "5     0025bde0c.jpg        3   \n",
       "11    0046839bd.jpg        3   \n",
       "12    005d86c25.jpg        3   \n",
       "...             ...      ...   \n",
       "7090  ffcf72ecf.jpg        3   \n",
       "7091  fff02e9c5.jpg        3   \n",
       "7092  fffe98443.jpg        3   \n",
       "7093  ffff4eaa8.jpg        3   \n",
       "7094  ffffd67df.jpg        3   \n",
       "\n",
       "                                          EncodedPixels  \n",
       "1     18661 28 18863 82 19091 110 19347 110 19603 11...  \n",
       "4     229501 11 229741 33 229981 55 230221 77 230468...  \n",
       "5     8458 14 8707 35 8963 48 9219 71 9475 88 9731 8...  \n",
       "11    152926 1 153180 4 153434 6 153689 8 153943 11 ...  \n",
       "12    331 18 587 53 843 89 1099 124 1355 159 1611 17...  \n",
       "...                                                 ...  \n",
       "7090  121911 34 122167 101 122422 169 122678 203 122...  \n",
       "7091  207523 3 207777 9 208030 15 208283 22 208537 2...  \n",
       "7092  105929 5 106177 14 106424 24 106672 33 106923 ...  \n",
       "7093  16899 7 17155 20 17411 34 17667 47 17923 60 18...  \n",
       "7094  30931 43 31103 127 31275 211 31489 253 31745 2...  \n",
       "\n",
       "[5150 rows x 3 columns]"
      ]
     },
     "execution_count": 5,
     "metadata": {},
     "output_type": "execute_result"
    }
   ],
   "source": [
    "train"
   ]
  },
  {
   "cell_type": "markdown",
   "metadata": {
    "execution": {
     "iopub.execute_input": "2022-10-22T08:12:37.177193Z",
     "iopub.status.busy": "2022-10-22T08:12:37.176764Z",
     "iopub.status.idle": "2022-10-22T08:12:37.9577Z",
     "shell.execute_reply": "2022-10-22T08:12:37.956442Z",
     "shell.execute_reply.started": "2022-10-22T08:12:37.177153Z"
    }
   },
   "source": [
    "# Data Channels"
   ]
  },
  {
   "cell_type": "markdown",
   "metadata": {},
   "source": [
    "### The \"rle2mask\" get a array with form (first pixels position, number of pixels, first pixels position, number of pixels, ...) to 256*1600 numpy arrray which displays the position of defection in the image, where 1s mean defection, 0s mean no defection."
   ]
  },
  {
   "cell_type": "code",
   "execution_count": 6,
   "metadata": {
    "execution": {
     "iopub.execute_input": "2022-10-29T03:58:22.533802Z",
     "iopub.status.busy": "2022-10-29T03:58:22.533504Z",
     "iopub.status.idle": "2022-10-29T03:58:22.542698Z",
     "shell.execute_reply": "2022-10-29T03:58:22.541774Z",
     "shell.execute_reply.started": "2022-10-29T03:58:22.533776Z"
    }
   },
   "outputs": [],
   "source": [
    "def rle2mask(rle, imgshape):\n",
    "    width = imgshape[0]\n",
    "    height= imgshape[1]\n",
    "    \n",
    "    mask= np.zeros(width * height).astype(np.uint8)\n",
    "    \n",
    "    array = np.asarray([int(x) for x in rle.split()])\n",
    "    starts = array[0::2]\n",
    "    lengths = array[1::2]\n",
    "\n",
    "    for index, start in enumerate(starts):\n",
    "        mask[int(start):int(start+lengths[index])] = 1\n",
    "        \n",
    "    return np.flipud(np.rot90(mask.reshape(height, width), k=1))"
   ]
  },
  {
   "cell_type": "markdown",
   "metadata": {},
   "source": [
    "### For each image, I get two new images by flipping horizontally and vertically, and use them for training. Noticet that mask also require the same type of flipping. This is a kind of image augmentation, which can aviod overfitting and improve performance."
   ]
  },
  {
   "cell_type": "code",
   "execution_count": 7,
   "metadata": {
    "execution": {
     "iopub.execute_input": "2022-10-29T03:58:22.544668Z",
     "iopub.status.busy": "2022-10-29T03:58:22.544293Z",
     "iopub.status.idle": "2022-10-29T03:58:22.554869Z",
     "shell.execute_reply": "2022-10-29T03:58:22.553769Z",
     "shell.execute_reply.started": "2022-10-29T03:58:22.544629Z"
    }
   },
   "outputs": [],
   "source": [
    "class PixelsDataset(Dataset):\n",
    "    def __init__(self, df, file_dir, transform, label_flip = None):\n",
    "        self.df = df\n",
    "        self.file_dir = file_dir\n",
    "        self.transform = transform\n",
    "        self.label_flip = label_flip\n",
    "    def __getitem__(self, index):\n",
    "      \n",
    "        image_name = self.df[\"ImageId\"].iloc[index]\n",
    "        image = cv2.imread(os.path.join(self.file_dir, image_name))\n",
    "        image = cv2.cvtColor(image, cv2.COLOR_BGR2RGB)\n",
    "        image = self.transform(image=image)[\"image\"]\n",
    "        \n",
    "        pixels = self.df[\"EncodedPixels\"].iloc[index]\n",
    "        mask = rle2mask(pixels, (256,1600))\n",
    "        if self.label_flip == \"v\":\n",
    "            mask= np.flipud(mask).copy()\n",
    "        elif self.label_flip == \"h\":\n",
    "            mask= np.fliplr(mask).copy()\n",
    "        return image, mask\n",
    "\n",
    "    \n",
    "    def __len__(self):\n",
    "        return self.df.shape[0]"
   ]
  },
  {
   "cell_type": "code",
   "execution_count": 8,
   "metadata": {
    "execution": {
     "iopub.execute_input": "2022-10-29T03:58:22.556997Z",
     "iopub.status.busy": "2022-10-29T03:58:22.556387Z",
     "iopub.status.idle": "2022-10-29T03:58:22.566148Z",
     "shell.execute_reply": "2022-10-29T03:58:22.565013Z",
     "shell.execute_reply.started": "2022-10-29T03:58:22.556962Z"
    }
   },
   "outputs": [],
   "source": [
    "train_transform = A.Compose([A.Normalize(mean=[0.485, 0.456, 0.406],\n",
    "                                        std=[0.229, 0.224, 0.225]),\n",
    "                            ToTensorV2()]\n",
    ")\n",
    "hf_transform = A.Compose([A.HorizontalFlip(p=1),\n",
    "                             A.Normalize(mean=[0.485, 0.456, 0.406],\n",
    "                                        std=[0.229, 0.224, 0.225]),\n",
    "                            ToTensorV2()])\n",
    "vf_transform = A.Compose([A.VerticalFlip(p=1),\n",
    "                             A.Normalize(mean=[0.485, 0.456, 0.406],\n",
    "                                        std=[0.229, 0.224, 0.225]),\n",
    "                            ToTensorV2()])\n",
    "val_transform = A.Compose([\n",
    "                           A.Normalize(mean=[0.485, 0.456, 0.406],\n",
    "                                        std=[0.229, 0.224, 0.225]),\n",
    "                           ToTensorV2()])"
   ]
  },
  {
   "cell_type": "markdown",
   "metadata": {},
   "source": [
    "# Split Data"
   ]
  },
  {
   "cell_type": "markdown",
   "metadata": {},
   "source": [
    "### I split data into 5 folds to train 5 models, pick the model with the best performance"
   ]
  },
  {
   "cell_type": "code",
   "execution_count": 9,
   "metadata": {
    "execution": {
     "iopub.execute_input": "2022-10-29T03:58:22.568189Z",
     "iopub.status.busy": "2022-10-29T03:58:22.567654Z",
     "iopub.status.idle": "2022-10-29T03:58:22.582483Z",
     "shell.execute_reply": "2022-10-29T03:58:22.581513Z",
     "shell.execute_reply.started": "2022-10-29T03:58:22.568152Z"
    }
   },
   "outputs": [],
   "source": [
    "from sklearn.model_selection import KFold\n",
    "kf = KFold(n_splits=5)\n",
    "fold1_idx, fold2_idx, fold3_idx, fold4_idx, fold5_idx = kf.split(train)\n",
    "fold1 = train.iloc[fold1_idx[1]]\n",
    "fold2 = train.iloc[fold2_idx[1]]\n",
    "fold3 = train.iloc[fold3_idx[1]]\n",
    "fold4 = train.iloc[fold4_idx[1]]\n",
    "fold5 = train.iloc[fold5_idx[1]]"
   ]
  },
  {
   "cell_type": "code",
   "execution_count": 10,
   "metadata": {
    "execution": {
     "iopub.execute_input": "2022-10-29T03:58:22.588006Z",
     "iopub.status.busy": "2022-10-29T03:58:22.587703Z",
     "iopub.status.idle": "2022-10-29T03:58:22.768328Z",
     "shell.execute_reply": "2022-10-29T03:58:22.767346Z",
     "shell.execute_reply.started": "2022-10-29T03:58:22.587981Z"
    }
   },
   "outputs": [],
   "source": [
    "fold1.to_csv(\"class3_fold1.csv\",index=False)\n",
    "fold2.to_csv(\"class3_fold2.csv\",index=False)\n",
    "fold3.to_csv(\"class3_fold3.csv\",index=False)\n",
    "fold4.to_csv(\"class3_fold4.csv\",index=False)\n",
    "fold5.to_csv(\"class3_fold5.csv\",index=False)"
   ]
  },
  {
   "cell_type": "code",
   "execution_count": 11,
   "metadata": {
    "execution": {
     "iopub.execute_input": "2022-10-29T03:58:22.770423Z",
     "iopub.status.busy": "2022-10-29T03:58:22.769828Z",
     "iopub.status.idle": "2022-10-29T03:58:22.781788Z",
     "shell.execute_reply": "2022-10-29T03:58:22.780755Z",
     "shell.execute_reply.started": "2022-10-29T03:58:22.770383Z"
    }
   },
   "outputs": [],
   "source": [
    "train = pd.concat((fold2, fold3, fold4, fold5), axis = 0)\n",
    "val = fold1"
   ]
  },
  {
   "cell_type": "code",
   "execution_count": 12,
   "metadata": {
    "execution": {
     "iopub.execute_input": "2022-10-29T03:58:22.783986Z",
     "iopub.status.busy": "2022-10-29T03:58:22.783395Z",
     "iopub.status.idle": "2022-10-29T03:58:22.792666Z",
     "shell.execute_reply": "2022-10-29T03:58:22.791778Z",
     "shell.execute_reply.started": "2022-10-29T03:58:22.783946Z"
    }
   },
   "outputs": [],
   "source": [
    "train_data = PixelsDataset(train, file_dir, transform =train_transform)\n",
    "hf_train_data = PixelsDataset(train, file_dir, transform =hf_transform, label_flip=\"h\")\n",
    "vf_train_data = PixelsDataset(train, file_dir, transform =vf_transform, label_flip=\"v\")\n",
    "val_data = PixelsDataset(val, file_dir, transform =val_transform)\n",
    "train_data = torch.utils.data.ConcatDataset([train_data, hf_train_data, vf_train_data])"
   ]
  },
  {
   "cell_type": "code",
   "execution_count": 13,
   "metadata": {
    "execution": {
     "iopub.execute_input": "2022-10-29T03:58:22.794820Z",
     "iopub.status.busy": "2022-10-29T03:58:22.794435Z",
     "iopub.status.idle": "2022-10-29T03:58:22.800322Z",
     "shell.execute_reply": "2022-10-29T03:58:22.799267Z",
     "shell.execute_reply.started": "2022-10-29T03:58:22.794784Z"
    }
   },
   "outputs": [],
   "source": [
    "train_loader = DataLoader(train_data, batch_size = 8, shuffle=True)\n",
    "val_loader = DataLoader(val_data, batch_size = 8, shuffle=True)"
   ]
  },
  {
   "cell_type": "code",
   "execution_count": 14,
   "metadata": {
    "execution": {
     "iopub.execute_input": "2022-10-29T03:58:22.802519Z",
     "iopub.status.busy": "2022-10-29T03:58:22.801966Z",
     "iopub.status.idle": "2022-10-29T03:58:24.637152Z",
     "shell.execute_reply": "2022-10-29T03:58:24.636177Z",
     "shell.execute_reply.started": "2022-10-29T03:58:22.802482Z"
    }
   },
   "outputs": [
    {
     "data": {
      "image/png": "[encoded data removed]",
      "text/plain": [
       "<Figure size 1440x1440 with 1 Axes>"
      ]
     },
     "metadata": {},
     "output_type": "display_data"
    }
   ],
   "source": [
    "for images, labels in train_loader:\n",
    "    \n",
    "    fig, ax = plt.subplots(figsize = (20, 20))\n",
    "    ax.set_xticks([])\n",
    "    ax.set_yticks([])\n",
    "    ax.imshow(torchvision.utils.make_grid(images, nrow=4).permute(1,2,0))\n",
    "    break"
   ]
  },
  {
   "cell_type": "markdown",
   "metadata": {},
   "source": [
    "# Get Pretrained Model "
   ]
  },
  {
   "cell_type": "code",
   "execution_count": 15,
   "metadata": {
    "execution": {
     "iopub.execute_input": "2022-10-29T03:58:24.638937Z",
     "iopub.status.busy": "2022-10-29T03:58:24.638213Z",
     "iopub.status.idle": "2022-10-29T03:58:24.708014Z",
     "shell.execute_reply": "2022-10-29T03:58:24.706835Z",
     "shell.execute_reply.started": "2022-10-29T03:58:24.638901Z"
    }
   },
   "outputs": [
    {
     "name": "stdout",
     "output_type": "stream",
     "text": [
      "cuda\n"
     ]
    }
   ],
   "source": [
    "device = torch.device('cuda' if torch.cuda.is_available() else 'cpu')\n",
    "print(device)"
   ]
  },
  {
   "cell_type": "markdown",
   "metadata": {},
   "source": [
    "### I use Unet here for training. Unet includes encoder and decoder two parts, encoder is the same as resnet18 without fully connect layers, decoder make the result of encoder back to a array with the same size of input image.\n",
    "\n",
    "### Here I frozen the encoder layers for the transfer learning for the first 5 epochs."
   ]
  },
  {
   "cell_type": "code",
   "execution_count": 16,
   "metadata": {
    "execution": {
     "iopub.execute_input": "2022-10-29T03:58:24.710616Z",
     "iopub.status.busy": "2022-10-29T03:58:24.709639Z",
     "iopub.status.idle": "2022-10-29T03:58:28.298654Z",
     "shell.execute_reply": "2022-10-29T03:58:28.297649Z",
     "shell.execute_reply.started": "2022-10-29T03:58:24.710587Z"
    }
   },
   "outputs": [
    {
     "name": "stderr",
     "output_type": "stream",
     "text": [
      "Downloading: \"https://download.pytorch.org/models/resnet18-5c106cde.pth\" to /root/.cache/torch/hub/checkpoints/resnet18-5c106cde.pth\n"
     ]
    },
    {
     "data": {
      "application/vnd.jupyter.widget-view+json": {
       "model_id": "3b8b85f0c89e4eeeadaa956670d43c66",
       "version_major": 2,
       "version_minor": 0
      },
      "text/plain": [
       "  0%|          | 0.00/44.7M [00:00<?, ?B/s]"
      ]
     },
     "metadata": {},
     "output_type": "display_data"
    }
   ],
   "source": [
    "model = smp.Unet('resnet18', encoder_weights='imagenet')\n",
    "for p in model.encoder.parameters():\n",
    "    p.requires_grad = False"
   ]
  },
  {
   "cell_type": "code",
   "execution_count": 17,
   "metadata": {
    "execution": {
     "iopub.execute_input": "2022-10-29T03:58:28.302011Z",
     "iopub.status.busy": "2022-10-29T03:58:28.300029Z",
     "iopub.status.idle": "2022-10-29T03:58:31.191756Z",
     "shell.execute_reply": "2022-10-29T03:58:31.190621Z",
     "shell.execute_reply.started": "2022-10-29T03:58:28.301967Z"
    }
   },
   "outputs": [
    {
     "data": {
      "text/plain": [
       "Unet(\n",
       "  (encoder): ResNetEncoder(\n",
       "    (conv1): Conv2d(3, 64, kernel_size=(7, 7), stride=(2, 2), padding=(3, 3), bias=False)\n",
       "    (bn1): BatchNorm2d(64, eps=1e-05, momentum=0.1, affine=True, track_running_stats=True)\n",
       "    (relu): ReLU(inplace=True)\n",
       "    (maxpool): MaxPool2d(kernel_size=3, stride=2, padding=1, dilation=1, ceil_mode=False)\n",
       "    (layer1): Sequential(\n",
       "      (0): BasicBlock(\n",
       "        (conv1): Conv2d(64, 64, kernel_size=(3, 3), stride=(1, 1), padding=(1, 1), bias=False)\n",
       "        (bn1): BatchNorm2d(64, eps=1e-05, momentum=0.1, affine=True, track_running_stats=True)\n",
       "        (relu): ReLU(inplace=True)\n",
       "        (conv2): Conv2d(64, 64, kernel_size=(3, 3), stride=(1, 1), padding=(1, 1), bias=False)\n",
       "        (bn2): BatchNorm2d(64, eps=1e-05, momentum=0.1, affine=True, track_running_stats=True)\n",
       "      )\n",
       "      (1): BasicBlock(\n",
       "        (conv1): Conv2d(64, 64, kernel_size=(3, 3), stride=(1, 1), padding=(1, 1), bias=False)\n",
       "        (bn1): BatchNorm2d(64, eps=1e-05, momentum=0.1, affine=True, track_running_stats=True)\n",
       "        (relu): ReLU(inplace=True)\n",
       "        (conv2): Conv2d(64, 64, kernel_size=(3, 3), stride=(1, 1), padding=(1, 1), bias=False)\n",
       "        (bn2): BatchNorm2d(64, eps=1e-05, momentum=0.1, affine=True, track_running_stats=True)\n",
       "      )\n",
       "    )\n",
       "    (layer2): Sequential(\n",
       "      (0): BasicBlock(\n",
       "        (conv1): Conv2d(64, 128, kernel_size=(3, 3), stride=(2, 2), padding=(1, 1), bias=False)\n",
       "        (bn1): BatchNorm2d(128, eps=1e-05, momentum=0.1, affine=True, track_running_stats=True)\n",
       "        (relu): ReLU(inplace=True)\n",
       "        (conv2): Conv2d(128, 128, kernel_size=(3, 3), stride=(1, 1), padding=(1, 1), bias=False)\n",
       "        (bn2): BatchNorm2d(128, eps=1e-05, momentum=0.1, affine=True, track_running_stats=True)\n",
       "        (downsample): Sequential(\n",
       "          (0): Conv2d(64, 128, kernel_size=(1, 1), stride=(2, 2), bias=False)\n",
       "          (1): BatchNorm2d(128, eps=1e-05, momentum=0.1, affine=True, track_running_stats=True)\n",
       "        )\n",
       "      )\n",
       "      (1): BasicBlock(\n",
       "        (conv1): Conv2d(128, 128, kernel_size=(3, 3), stride=(1, 1), padding=(1, 1), bias=False)\n",
       "        (bn1): BatchNorm2d(128, eps=1e-05, momentum=0.1, affine=True, track_running_stats=True)\n",
       "        (relu): ReLU(inplace=True)\n",
       "        (conv2): Conv2d(128, 128, kernel_size=(3, 3), stride=(1, 1), padding=(1, 1), bias=False)\n",
       "        (bn2): BatchNorm2d(128, eps=1e-05, momentum=0.1, affine=True, track_running_stats=True)\n",
       "      )\n",
       "    )\n",
       "    (layer3): Sequential(\n",
       "      (0): BasicBlock(\n",
       "        (conv1): Conv2d(128, 256, kernel_size=(3, 3), stride=(2, 2), padding=(1, 1), bias=False)\n",
       "        (bn1): BatchNorm2d(256, eps=1e-05, momentum=0.1, affine=True, track_running_stats=True)\n",
       "        (relu): ReLU(inplace=True)\n",
       "        (conv2): Conv2d(256, 256, kernel_size=(3, 3), stride=(1, 1), padding=(1, 1), bias=False)\n",
       "        (bn2): BatchNorm2d(256, eps=1e-05, momentum=0.1, affine=True, track_running_stats=True)\n",
       "        (downsample): Sequential(\n",
       "          (0): Conv2d(128, 256, kernel_size=(1, 1), stride=(2, 2), bias=False)\n",
       "          (1): BatchNorm2d(256, eps=1e-05, momentum=0.1, affine=True, track_running_stats=True)\n",
       "        )\n",
       "      )\n",
       "      (1): BasicBlock(\n",
       "        (conv1): Conv2d(256, 256, kernel_size=(3, 3), stride=(1, 1), padding=(1, 1), bias=False)\n",
       "        (bn1): BatchNorm2d(256, eps=1e-05, momentum=0.1, affine=True, track_running_stats=True)\n",
       "        (relu): ReLU(inplace=True)\n",
       "        (conv2): Conv2d(256, 256, kernel_size=(3, 3), stride=(1, 1), padding=(1, 1), bias=False)\n",
       "        (bn2): BatchNorm2d(256, eps=1e-05, momentum=0.1, affine=True, track_running_stats=True)\n",
       "      )\n",
       "    )\n",
       "    (layer4): Sequential(\n",
       "      (0): BasicBlock(\n",
       "        (conv1): Conv2d(256, 512, kernel_size=(3, 3), stride=(2, 2), padding=(1, 1), bias=False)\n",
       "        (bn1): BatchNorm2d(512, eps=1e-05, momentum=0.1, affine=True, track_running_stats=True)\n",
       "        (relu): ReLU(inplace=True)\n",
       "        (conv2): Conv2d(512, 512, kernel_size=(3, 3), stride=(1, 1), padding=(1, 1), bias=False)\n",
       "        (bn2): BatchNorm2d(512, eps=1e-05, momentum=0.1, affine=True, track_running_stats=True)\n",
       "        (downsample): Sequential(\n",
       "          (0): Conv2d(256, 512, kernel_size=(1, 1), stride=(2, 2), bias=False)\n",
       "          (1): BatchNorm2d(512, eps=1e-05, momentum=0.1, affine=True, track_running_stats=True)\n",
       "        )\n",
       "      )\n",
       "      (1): BasicBlock(\n",
       "        (conv1): Conv2d(512, 512, kernel_size=(3, 3), stride=(1, 1), padding=(1, 1), bias=False)\n",
       "        (bn1): BatchNorm2d(512, eps=1e-05, momentum=0.1, affine=True, track_running_stats=True)\n",
       "        (relu): ReLU(inplace=True)\n",
       "        (conv2): Conv2d(512, 512, kernel_size=(3, 3), stride=(1, 1), padding=(1, 1), bias=False)\n",
       "        (bn2): BatchNorm2d(512, eps=1e-05, momentum=0.1, affine=True, track_running_stats=True)\n",
       "      )\n",
       "    )\n",
       "  )\n",
       "  (decoder): UnetDecoder(\n",
       "    (center): Identity()\n",
       "    (blocks): ModuleList(\n",
       "      (0): DecoderBlock(\n",
       "        (conv1): Conv2dReLU(\n",
       "          (0): Conv2d(768, 256, kernel_size=(3, 3), stride=(1, 1), padding=(1, 1), bias=False)\n",
       "          (1): BatchNorm2d(256, eps=1e-05, momentum=0.1, affine=True, track_running_stats=True)\n",
       "          (2): ReLU(inplace=True)\n",
       "        )\n",
       "        (attention1): Attention(\n",
       "          (attention): Identity()\n",
       "        )\n",
       "        (conv2): Conv2dReLU(\n",
       "          (0): Conv2d(256, 256, kernel_size=(3, 3), stride=(1, 1), padding=(1, 1), bias=False)\n",
       "          (1): BatchNorm2d(256, eps=1e-05, momentum=0.1, affine=True, track_running_stats=True)\n",
       "          (2): ReLU(inplace=True)\n",
       "        )\n",
       "        (attention2): Attention(\n",
       "          (attention): Identity()\n",
       "        )\n",
       "      )\n",
       "      (1): DecoderBlock(\n",
       "        (conv1): Conv2dReLU(\n",
       "          (0): Conv2d(384, 128, kernel_size=(3, 3), stride=(1, 1), padding=(1, 1), bias=False)\n",
       "          (1): BatchNorm2d(128, eps=1e-05, momentum=0.1, affine=True, track_running_stats=True)\n",
       "          (2): ReLU(inplace=True)\n",
       "        )\n",
       "        (attention1): Attention(\n",
       "          (attention): Identity()\n",
       "        )\n",
       "        (conv2): Conv2dReLU(\n",
       "          (0): Conv2d(128, 128, kernel_size=(3, 3), stride=(1, 1), padding=(1, 1), bias=False)\n",
       "          (1): BatchNorm2d(128, eps=1e-05, momentum=0.1, affine=True, track_running_stats=True)\n",
       "          (2): ReLU(inplace=True)\n",
       "        )\n",
       "        (attention2): Attention(\n",
       "          (attention): Identity()\n",
       "        )\n",
       "      )\n",
       "      (2): DecoderBlock(\n",
       "        (conv1): Conv2dReLU(\n",
       "          (0): Conv2d(192, 64, kernel_size=(3, 3), stride=(1, 1), padding=(1, 1), bias=False)\n",
       "          (1): BatchNorm2d(64, eps=1e-05, momentum=0.1, affine=True, track_running_stats=True)\n",
       "          (2): ReLU(inplace=True)\n",
       "        )\n",
       "        (attention1): Attention(\n",
       "          (attention): Identity()\n",
       "        )\n",
       "        (conv2): Conv2dReLU(\n",
       "          (0): Conv2d(64, 64, kernel_size=(3, 3), stride=(1, 1), padding=(1, 1), bias=False)\n",
       "          (1): BatchNorm2d(64, eps=1e-05, momentum=0.1, affine=True, track_running_stats=True)\n",
       "          (2): ReLU(inplace=True)\n",
       "        )\n",
       "        (attention2): Attention(\n",
       "          (attention): Identity()\n",
       "        )\n",
       "      )\n",
       "      (3): DecoderBlock(\n",
       "        (conv1): Conv2dReLU(\n",
       "          (0): Conv2d(128, 32, kernel_size=(3, 3), stride=(1, 1), padding=(1, 1), bias=False)\n",
       "          (1): BatchNorm2d(32, eps=1e-05, momentum=0.1, affine=True, track_running_stats=True)\n",
       "          (2): ReLU(inplace=True)\n",
       "        )\n",
       "        (attention1): Attention(\n",
       "          (attention): Identity()\n",
       "        )\n",
       "        (conv2): Conv2dReLU(\n",
       "          (0): Conv2d(32, 32, kernel_size=(3, 3), stride=(1, 1), padding=(1, 1), bias=False)\n",
       "          (1): BatchNorm2d(32, eps=1e-05, momentum=0.1, affine=True, track_running_stats=True)\n",
       "          (2): ReLU(inplace=True)\n",
       "        )\n",
       "        (attention2): Attention(\n",
       "          (attention): Identity()\n",
       "        )\n",
       "      )\n",
       "      (4): DecoderBlock(\n",
       "        (conv1): Conv2dReLU(\n",
       "          (0): Conv2d(32, 16, kernel_size=(3, 3), stride=(1, 1), padding=(1, 1), bias=False)\n",
       "          (1): BatchNorm2d(16, eps=1e-05, momentum=0.1, affine=True, track_running_stats=True)\n",
       "          (2): ReLU(inplace=True)\n",
       "        )\n",
       "        (attention1): Attention(\n",
       "          (attention): Identity()\n",
       "        )\n",
       "        (conv2): Conv2dReLU(\n",
       "          (0): Conv2d(16, 16, kernel_size=(3, 3), stride=(1, 1), padding=(1, 1), bias=False)\n",
       "          (1): BatchNorm2d(16, eps=1e-05, momentum=0.1, affine=True, track_running_stats=True)\n",
       "          (2): ReLU(inplace=True)\n",
       "        )\n",
       "        (attention2): Attention(\n",
       "          (attention): Identity()\n",
       "        )\n",
       "      )\n",
       "    )\n",
       "  )\n",
       "  (segmentation_head): SegmentationHead(\n",
       "    (0): Conv2d(16, 1, kernel_size=(3, 3), stride=(1, 1), padding=(1, 1))\n",
       "    (1): Identity()\n",
       "    (2): Activation(\n",
       "      (activation): Identity()\n",
       "    )\n",
       "  )\n",
       ")"
      ]
     },
     "execution_count": 17,
     "metadata": {},
     "output_type": "execute_result"
    }
   ],
   "source": [
    "model = model.to(device)\n",
    "model"
   ]
  },
  {
   "cell_type": "markdown",
   "metadata": {},
   "source": [
    "# Start Training"
   ]
  },
  {
   "cell_type": "markdown",
   "metadata": {},
   "source": [
    "### Here I use 0.75 BCE Loss and 0.25 Dice Loss as the Loss Function. BCE Loss can give the probability of defection for each pixels and Dice Loss is the requirement of this competition."
   ]
  },
  {
   "cell_type": "code",
   "execution_count": 18,
   "metadata": {
    "execution": {
     "iopub.execute_input": "2022-10-29T03:58:31.193944Z",
     "iopub.status.busy": "2022-10-29T03:58:31.193392Z",
     "iopub.status.idle": "2022-10-29T03:58:31.201963Z",
     "shell.execute_reply": "2022-10-29T03:58:31.200551Z",
     "shell.execute_reply.started": "2022-10-29T03:58:31.193905Z"
    }
   },
   "outputs": [],
   "source": [
    "class DiceCoefficient(nn.Module):\n",
    "    def __init__(self, weight=None, size_average=True):\n",
    "        super(DiceCoefficient, self).__init__()\n",
    "\n",
    "    def forward(self, inputs, targets, smooth=1e-9):\n",
    "        \n",
    "        #comment out if your model contains a sigmoid or equivalent activation layer\n",
    "        inputs = torch.sigmoid(inputs)       \n",
    "        Dice = 0\n",
    "        #flatten label and prediction tensors\n",
    "        for i in range(inputs.shape[0]):\n",
    "            pred = inputs[i].view(-1)\n",
    "            truth = targets[i].view(-1)\n",
    "        \n",
    "            intersection = (pred * truth).sum()                            \n",
    "            Dice += (2.*intersection + smooth)/(pred.sum() + truth.sum() + smooth)\n",
    "        \n",
    "        return Dice.float()"
   ]
  },
  {
   "cell_type": "code",
   "execution_count": 19,
   "metadata": {
    "execution": {
     "iopub.execute_input": "2022-10-29T03:58:31.204154Z",
     "iopub.status.busy": "2022-10-29T03:58:31.203464Z",
     "iopub.status.idle": "2022-10-29T03:58:31.213251Z",
     "shell.execute_reply": "2022-10-29T03:58:31.212347Z",
     "shell.execute_reply.started": "2022-10-29T03:58:31.204112Z"
    }
   },
   "outputs": [],
   "source": [
    "class DiceBCELoss(nn.Module):\n",
    "    def __init__(self, weight=None, size_average=True):\n",
    "        super(DiceBCELoss, self).__init__()\n",
    "\n",
    "    def forward(self, inputs, targets, smooth=1e-7):\n",
    "        \n",
    "        #comment out if your model contains a sigmoid or equivalent activation layer\n",
    "        inputs = torch.sigmoid(inputs)       \n",
    "        \n",
    "        #flatten label and prediction tensors\n",
    "        inputs = inputs.view(-1)\n",
    "        targets = targets.view(-1)\n",
    "        \n",
    "        intersection = (inputs * targets).sum()                            \n",
    "        dice_loss = 1 - (2.*intersection + smooth)/(inputs.sum() + targets.sum() + smooth)  \n",
    "        BCE = F.binary_cross_entropy(inputs, targets, reduction='mean')\n",
    "        Dice_BCE = 0.75*BCE + 0.25*dice_loss\n",
    "        \n",
    "        return Dice_BCE.float()"
   ]
  },
  {
   "cell_type": "code",
   "execution_count": 20,
   "metadata": {
    "execution": {
     "iopub.execute_input": "2022-10-29T03:58:31.215321Z",
     "iopub.status.busy": "2022-10-29T03:58:31.214877Z",
     "iopub.status.idle": "2022-10-29T03:58:31.223755Z",
     "shell.execute_reply": "2022-10-29T03:58:31.222759Z",
     "shell.execute_reply.started": "2022-10-29T03:58:31.215281Z"
    }
   },
   "outputs": [],
   "source": [
    "dice = DiceCoefficient()"
   ]
  },
  {
   "cell_type": "code",
   "execution_count": 21,
   "metadata": {
    "execution": {
     "iopub.execute_input": "2022-10-29T03:58:31.225682Z",
     "iopub.status.busy": "2022-10-29T03:58:31.225276Z",
     "iopub.status.idle": "2022-10-29T03:58:31.233694Z",
     "shell.execute_reply": "2022-10-29T03:58:31.232764Z",
     "shell.execute_reply.started": "2022-10-29T03:58:31.225627Z"
    }
   },
   "outputs": [],
   "source": [
    "criterion = DiceBCELoss()"
   ]
  },
  {
   "cell_type": "code",
   "execution_count": 22,
   "metadata": {
    "execution": {
     "iopub.execute_input": "2022-10-29T03:58:31.237725Z",
     "iopub.status.busy": "2022-10-29T03:58:31.237412Z",
     "iopub.status.idle": "2022-10-29T03:58:31.246819Z",
     "shell.execute_reply": "2022-10-29T03:58:31.245843Z",
     "shell.execute_reply.started": "2022-10-29T03:58:31.237682Z"
    }
   },
   "outputs": [],
   "source": [
    "optimizer = torch.optim.Adam(model.parameters(), lr=5e-5)"
   ]
  },
  {
   "cell_type": "code",
   "execution_count": 23,
   "metadata": {
    "execution": {
     "iopub.execute_input": "2022-10-29T03:58:31.250641Z",
     "iopub.status.busy": "2022-10-29T03:58:31.250297Z",
     "iopub.status.idle": "2022-10-29T03:58:31.262995Z",
     "shell.execute_reply": "2022-10-29T03:58:31.262113Z",
     "shell.execute_reply.started": "2022-10-29T03:58:31.250605Z"
    }
   },
   "outputs": [],
   "source": [
    "def train_model(model, num_epochs, criterion, train_loader, val_loader, optimizer, dice):    \n",
    "\n",
    "    train_losses = []\n",
    "    val_losses = []\n",
    "    for epoch in range(num_epochs):\n",
    "\n",
    "        train_dice = 0\n",
    "        train_total = 0\n",
    "        model.train()\n",
    "        running_loss = 0\n",
    "\n",
    "        for images, labels in tqdm(train_loader):\n",
    "\n",
    "            images = images.to(device).float()\n",
    "            labels = labels.to(device).float()\n",
    "\n",
    "            optimizer.zero_grad()\n",
    "            outputs = model(images)\n",
    "\n",
    "            loss = criterion(outputs, labels)\n",
    "            loss.backward()\n",
    "            optimizer.step()\n",
    "            running_loss += loss.item()\n",
    "            \n",
    "            train_dice += dice(outputs, labels).item()\n",
    "            train_total += labels.size(0)\n",
    "            \n",
    "        train_dice = train_dice/train_total\n",
    "        train_losses.append(running_loss / len(train_loader))\n",
    "\n",
    "        model.eval()\n",
    "        val_dice = 0\n",
    "        val_total = 0\n",
    "        running_loss = 0\n",
    "        \n",
    "        with torch.no_grad():  \n",
    "            for images, labels in tqdm(val_loader):\n",
    "\n",
    "                images = images.to(device).float()\n",
    "                labels = labels.to(device).float()\n",
    "\n",
    "                optimizer.zero_grad()\n",
    "                outputs = model(images)\n",
    "\n",
    "                loss = criterion(outputs, labels)\n",
    "                running_loss += loss.item()\n",
    "                \n",
    "                val_dice += dice(outputs, labels).item()\n",
    "                val_total += labels.size(0)\n",
    "            \n",
    "        val_dice = val_dice/val_total\n",
    "        val_losses.append(running_loss / len(val_loader))\n",
    "\n",
    "        print(\"[Epoch: %d / %d], [Trian loss: %.6f], [Val loss: %.6f], [Train Dice: %.6f], [Val Dice: %.6f]\" \\\n",
    "              %(epoch+1, num_epochs, train_losses[-1], val_losses[-1], train_dice, val_dice))"
   ]
  },
  {
   "cell_type": "code",
   "execution_count": 24,
   "metadata": {
    "execution": {
     "iopub.execute_input": "2022-10-29T03:58:31.266596Z",
     "iopub.status.busy": "2022-10-29T03:58:31.265891Z",
     "iopub.status.idle": "2022-10-29T05:08:08.851792Z",
     "shell.execute_reply": "2022-10-29T05:08:08.850768Z",
     "shell.execute_reply.started": "2022-10-29T03:58:31.266555Z"
    }
   },
   "outputs": [
    {
     "name": "stderr",
     "output_type": "stream",
     "text": [
      "100%|██████████| 1545/1545 [13:53<00:00,  1.85it/s]\n",
      "100%|██████████| 129/129 [00:45<00:00,  2.84it/s]\n"
     ]
    },
    {
     "name": "stdout",
     "output_type": "stream",
     "text": [
      "[Epoch: 1 / 5], [Trian loss: 0.428175], [Val loss: 0.238633], [Train Dice: 0.218017], [Val Dice: 0.330294]\n"
     ]
    },
    {
     "name": "stderr",
     "output_type": "stream",
     "text": [
      "100%|██████████| 1545/1545 [13:05<00:00,  1.97it/s]\n",
      "100%|██████████| 129/129 [00:38<00:00,  3.36it/s]\n"
     ]
    },
    {
     "name": "stdout",
     "output_type": "stream",
     "text": [
      "[Epoch: 2 / 5], [Trian loss: 0.199369], [Val loss: 0.167642], [Train Dice: 0.439171], [Val Dice: 0.519188]\n"
     ]
    },
    {
     "name": "stderr",
     "output_type": "stream",
     "text": [
      "100%|██████████| 1545/1545 [13:00<00:00,  1.98it/s]\n",
      "100%|██████████| 129/129 [00:38<00:00,  3.37it/s]\n"
     ]
    },
    {
     "name": "stdout",
     "output_type": "stream",
     "text": [
      "[Epoch: 3 / 5], [Trian loss: 0.163257], [Val loss: 0.156132], [Train Dice: 0.551732], [Val Dice: 0.565249]\n"
     ]
    },
    {
     "name": "stderr",
     "output_type": "stream",
     "text": [
      "100%|██████████| 1545/1545 [13:03<00:00,  1.97it/s]\n",
      "100%|██████████| 129/129 [00:39<00:00,  3.29it/s]\n"
     ]
    },
    {
     "name": "stdout",
     "output_type": "stream",
     "text": [
      "[Epoch: 4 / 5], [Trian loss: 0.151904], [Val loss: 0.154158], [Train Dice: 0.594935], [Val Dice: 0.601100]\n"
     ]
    },
    {
     "name": "stderr",
     "output_type": "stream",
     "text": [
      "100%|██████████| 1545/1545 [13:14<00:00,  1.95it/s]\n",
      "100%|██████████| 129/129 [00:38<00:00,  3.36it/s]"
     ]
    },
    {
     "name": "stdout",
     "output_type": "stream",
     "text": [
      "[Epoch: 5 / 5], [Trian loss: 0.144178], [Val loss: 0.149258], [Train Dice: 0.615447], [Val Dice: 0.624658]\n"
     ]
    },
    {
     "name": "stderr",
     "output_type": "stream",
     "text": [
      "\n"
     ]
    }
   ],
   "source": [
    "train_model(model, 5, criterion, train_loader,val_loader, optimizer, dice)"
   ]
  },
  {
   "cell_type": "markdown",
   "metadata": {},
   "source": [
    "### Here I unfrozen encoder layers."
   ]
  },
  {
   "cell_type": "code",
   "execution_count": 25,
   "metadata": {
    "execution": {
     "iopub.execute_input": "2022-10-29T05:08:08.854008Z",
     "iopub.status.busy": "2022-10-29T05:08:08.853348Z",
     "iopub.status.idle": "2022-10-29T05:08:08.859746Z",
     "shell.execute_reply": "2022-10-29T05:08:08.858654Z",
     "shell.execute_reply.started": "2022-10-29T05:08:08.853970Z"
    }
   },
   "outputs": [],
   "source": [
    "for p in model.parameters():\n",
    "    p.requires_grad = True"
   ]
  },
  {
   "cell_type": "code",
   "execution_count": 26,
   "metadata": {
    "execution": {
     "iopub.execute_input": "2022-10-29T05:08:08.863189Z",
     "iopub.status.busy": "2022-10-29T05:08:08.862917Z",
     "iopub.status.idle": "2022-10-29T05:08:08.870754Z",
     "shell.execute_reply": "2022-10-29T05:08:08.869860Z",
     "shell.execute_reply.started": "2022-10-29T05:08:08.863154Z"
    }
   },
   "outputs": [],
   "source": [
    "optimizer = torch.optim.Adam(model.parameters(), lr=1e-5)"
   ]
  },
  {
   "cell_type": "code",
   "execution_count": 27,
   "metadata": {
    "execution": {
     "iopub.execute_input": "2022-10-29T05:08:08.872583Z",
     "iopub.status.busy": "2022-10-29T05:08:08.872111Z",
     "iopub.status.idle": "2022-10-29T06:28:50.427623Z",
     "shell.execute_reply": "2022-10-29T06:28:50.426608Z",
     "shell.execute_reply.started": "2022-10-29T05:08:08.872547Z"
    }
   },
   "outputs": [
    {
     "name": "stderr",
     "output_type": "stream",
     "text": [
      "100%|██████████| 1545/1545 [15:32<00:00,  1.66it/s]\n",
      "100%|██████████| 129/129 [00:39<00:00,  3.25it/s]\n"
     ]
    },
    {
     "name": "stdout",
     "output_type": "stream",
     "text": [
      "[Epoch: 1 / 5], [Trian loss: 0.132084], [Val loss: 0.138410], [Train Dice: 0.642461], [Val Dice: 0.633482]\n"
     ]
    },
    {
     "name": "stderr",
     "output_type": "stream",
     "text": [
      "100%|██████████| 1545/1545 [15:22<00:00,  1.67it/s]\n",
      "100%|██████████| 129/129 [00:40<00:00,  3.19it/s]\n"
     ]
    },
    {
     "name": "stdout",
     "output_type": "stream",
     "text": [
      "[Epoch: 2 / 5], [Trian loss: 0.121679], [Val loss: 0.137171], [Train Dice: 0.664139], [Val Dice: 0.643145]\n"
     ]
    },
    {
     "name": "stderr",
     "output_type": "stream",
     "text": [
      "100%|██████████| 1545/1545 [15:38<00:00,  1.65it/s]\n",
      "100%|██████████| 129/129 [00:39<00:00,  3.26it/s]\n"
     ]
    },
    {
     "name": "stdout",
     "output_type": "stream",
     "text": [
      "[Epoch: 3 / 5], [Trian loss: 0.112198], [Val loss: 0.138162], [Train Dice: 0.683800], [Val Dice: 0.649834]\n"
     ]
    },
    {
     "name": "stderr",
     "output_type": "stream",
     "text": [
      "100%|██████████| 1545/1545 [15:31<00:00,  1.66it/s]\n",
      "100%|██████████| 129/129 [00:38<00:00,  3.32it/s]\n"
     ]
    },
    {
     "name": "stdout",
     "output_type": "stream",
     "text": [
      "[Epoch: 4 / 5], [Trian loss: 0.103564], [Val loss: 0.137546], [Train Dice: 0.700387], [Val Dice: 0.652009]\n"
     ]
    },
    {
     "name": "stderr",
     "output_type": "stream",
     "text": [
      "100%|██████████| 1545/1545 [15:17<00:00,  1.68it/s]\n",
      "100%|██████████| 129/129 [00:39<00:00,  3.24it/s]"
     ]
    },
    {
     "name": "stdout",
     "output_type": "stream",
     "text": [
      "[Epoch: 5 / 5], [Trian loss: 0.096938], [Val loss: 0.140758], [Train Dice: 0.716135], [Val Dice: 0.665156]\n"
     ]
    },
    {
     "name": "stderr",
     "output_type": "stream",
     "text": [
      "\n"
     ]
    }
   ],
   "source": [
    "train_model(model, 5, criterion, train_loader,val_loader, optimizer, dice)"
   ]
  },
  {
   "cell_type": "code",
   "execution_count": 28,
   "metadata": {
    "execution": {
     "iopub.execute_input": "2022-10-29T06:28:50.435279Z",
     "iopub.status.busy": "2022-10-29T06:28:50.433215Z",
     "iopub.status.idle": "2022-10-29T07:48:00.648699Z",
     "shell.execute_reply": "2022-10-29T07:48:00.647678Z",
     "shell.execute_reply.started": "2022-10-29T06:28:50.435247Z"
    }
   },
   "outputs": [
    {
     "name": "stderr",
     "output_type": "stream",
     "text": [
      "100%|██████████| 1545/1545 [15:11<00:00,  1.70it/s]\n",
      "100%|██████████| 129/129 [00:39<00:00,  3.28it/s]\n"
     ]
    },
    {
     "name": "stdout",
     "output_type": "stream",
     "text": [
      "[Epoch: 1 / 5], [Trian loss: 0.089938], [Val loss: 0.139940], [Train Dice: 0.730402], [Val Dice: 0.662562]\n"
     ]
    },
    {
     "name": "stderr",
     "output_type": "stream",
     "text": [
      "100%|██████████| 1545/1545 [15:13<00:00,  1.69it/s]\n",
      "100%|██████████| 129/129 [00:37<00:00,  3.44it/s]\n"
     ]
    },
    {
     "name": "stdout",
     "output_type": "stream",
     "text": [
      "[Epoch: 2 / 5], [Trian loss: 0.084601], [Val loss: 0.143642], [Train Dice: 0.742811], [Val Dice: 0.665420]\n"
     ]
    },
    {
     "name": "stderr",
     "output_type": "stream",
     "text": [
      "100%|██████████| 1545/1545 [15:19<00:00,  1.68it/s]\n",
      "100%|██████████| 129/129 [00:37<00:00,  3.40it/s]\n"
     ]
    },
    {
     "name": "stdout",
     "output_type": "stream",
     "text": [
      "[Epoch: 3 / 5], [Trian loss: 0.079321], [Val loss: 0.145301], [Train Dice: 0.755558], [Val Dice: 0.672590]\n"
     ]
    },
    {
     "name": "stderr",
     "output_type": "stream",
     "text": [
      "100%|██████████| 1545/1545 [15:09<00:00,  1.70it/s]\n",
      "100%|██████████| 129/129 [00:38<00:00,  3.37it/s]\n"
     ]
    },
    {
     "name": "stdout",
     "output_type": "stream",
     "text": [
      "[Epoch: 4 / 5], [Trian loss: 0.074290], [Val loss: 0.147925], [Train Dice: 0.764841], [Val Dice: 0.668898]\n"
     ]
    },
    {
     "name": "stderr",
     "output_type": "stream",
     "text": [
      "100%|██████████| 1545/1545 [15:05<00:00,  1.71it/s]\n",
      "100%|██████████| 129/129 [00:37<00:00,  3.40it/s]"
     ]
    },
    {
     "name": "stdout",
     "output_type": "stream",
     "text": [
      "[Epoch: 5 / 5], [Trian loss: 0.071030], [Val loss: 0.148659], [Train Dice: 0.774312], [Val Dice: 0.672205]\n"
     ]
    },
    {
     "name": "stderr",
     "output_type": "stream",
     "text": [
      "\n"
     ]
    }
   ],
   "source": [
    "train_model(model, 5, criterion, train_loader,val_loader, optimizer, dice)"
   ]
  },
  {
   "cell_type": "code",
   "execution_count": 29,
   "metadata": {
    "execution": {
     "iopub.execute_input": "2022-10-29T07:48:00.650675Z",
     "iopub.status.busy": "2022-10-29T07:48:00.650295Z",
     "iopub.status.idle": "2022-10-29T08:19:51.483070Z",
     "shell.execute_reply": "2022-10-29T08:19:51.482185Z",
     "shell.execute_reply.started": "2022-10-29T07:48:00.650638Z"
    }
   },
   "outputs": [
    {
     "name": "stderr",
     "output_type": "stream",
     "text": [
      "100%|██████████| 1545/1545 [15:12<00:00,  1.69it/s]\n",
      "100%|██████████| 129/129 [00:37<00:00,  3.44it/s]\n"
     ]
    },
    {
     "name": "stdout",
     "output_type": "stream",
     "text": [
      "[Epoch: 1 / 2], [Trian loss: 0.067278], [Val loss: 0.149371], [Train Dice: 0.783685], [Val Dice: 0.672935]\n"
     ]
    },
    {
     "name": "stderr",
     "output_type": "stream",
     "text": [
      "100%|██████████| 1545/1545 [15:22<00:00,  1.68it/s]\n",
      "100%|██████████| 129/129 [00:38<00:00,  3.36it/s]"
     ]
    },
    {
     "name": "stdout",
     "output_type": "stream",
     "text": [
      "[Epoch: 2 / 2], [Trian loss: 0.064106], [Val loss: 0.152485], [Train Dice: 0.791698], [Val Dice: 0.671022]\n"
     ]
    },
    {
     "name": "stderr",
     "output_type": "stream",
     "text": [
      "\n"
     ]
    }
   ],
   "source": [
    "train_model(model, 2, criterion, train_loader,val_loader, optimizer, dice)"
   ]
  },
  {
   "cell_type": "code",
   "execution_count": 30,
   "metadata": {
    "execution": {
     "iopub.execute_input": "2022-10-29T08:19:51.489342Z",
     "iopub.status.busy": "2022-10-29T08:19:51.485985Z",
     "iopub.status.idle": "2022-10-29T08:51:47.356779Z",
     "shell.execute_reply": "2022-10-29T08:51:47.355698Z",
     "shell.execute_reply.started": "2022-10-29T08:19:51.489300Z"
    }
   },
   "outputs": [
    {
     "name": "stderr",
     "output_type": "stream",
     "text": [
      "100%|██████████| 1545/1545 [15:25<00:00,  1.67it/s]\n",
      "100%|██████████| 129/129 [00:38<00:00,  3.32it/s]\n"
     ]
    },
    {
     "name": "stdout",
     "output_type": "stream",
     "text": [
      "[Epoch: 1 / 2], [Trian loss: 0.061053], [Val loss: 0.151363], [Train Dice: 0.800061], [Val Dice: 0.680491]\n"
     ]
    },
    {
     "name": "stderr",
     "output_type": "stream",
     "text": [
      "100%|██████████| 1545/1545 [15:13<00:00,  1.69it/s]\n",
      "100%|██████████| 129/129 [00:37<00:00,  3.41it/s]"
     ]
    },
    {
     "name": "stdout",
     "output_type": "stream",
     "text": [
      "[Epoch: 2 / 2], [Trian loss: 0.058621], [Val loss: 0.155109], [Train Dice: 0.806926], [Val Dice: 0.681231]\n"
     ]
    },
    {
     "name": "stderr",
     "output_type": "stream",
     "text": [
      "\n"
     ]
    }
   ],
   "source": [
    "train_model(model, 2, criterion, train_loader,val_loader, optimizer, dice)"
   ]
  },
  {
   "cell_type": "code",
   "execution_count": 31,
   "metadata": {
    "execution": {
     "iopub.execute_input": "2022-10-29T08:51:47.358751Z",
     "iopub.status.busy": "2022-10-29T08:51:47.358326Z",
     "iopub.status.idle": "2022-10-29T09:23:42.018784Z",
     "shell.execute_reply": "2022-10-29T09:23:42.017772Z",
     "shell.execute_reply.started": "2022-10-29T08:51:47.358668Z"
    }
   },
   "outputs": [
    {
     "name": "stderr",
     "output_type": "stream",
     "text": [
      "100%|██████████| 1545/1545 [15:20<00:00,  1.68it/s]\n",
      "100%|██████████| 129/129 [00:37<00:00,  3.45it/s]\n"
     ]
    },
    {
     "name": "stdout",
     "output_type": "stream",
     "text": [
      "[Epoch: 1 / 2], [Trian loss: 0.056457], [Val loss: 0.152611], [Train Dice: 0.812325], [Val Dice: 0.683378]\n"
     ]
    },
    {
     "name": "stderr",
     "output_type": "stream",
     "text": [
      "100%|██████████| 1545/1545 [15:16<00:00,  1.69it/s]\n",
      "100%|██████████| 129/129 [00:39<00:00,  3.26it/s]"
     ]
    },
    {
     "name": "stdout",
     "output_type": "stream",
     "text": [
      "[Epoch: 2 / 2], [Trian loss: 0.054247], [Val loss: 0.153330], [Train Dice: 0.818978], [Val Dice: 0.687467]\n"
     ]
    },
    {
     "name": "stderr",
     "output_type": "stream",
     "text": [
      "\n"
     ]
    }
   ],
   "source": [
    "train_model(model, 2, criterion, train_loader,val_loader, optimizer, dice)"
   ]
  },
  {
   "cell_type": "markdown",
   "metadata": {},
   "source": [
    "# Save Model"
   ]
  },
  {
   "cell_type": "code",
   "execution_count": 33,
   "metadata": {
    "execution": {
     "iopub.execute_input": "2022-10-29T09:25:06.308310Z",
     "iopub.status.busy": "2022-10-29T09:25:06.307601Z",
     "iopub.status.idle": "2022-10-29T09:25:06.435426Z",
     "shell.execute_reply": "2022-10-29T09:25:06.434328Z",
     "shell.execute_reply.started": "2022-10-29T09:25:06.308274Z"
    }
   },
   "outputs": [],
   "source": [
    "torch.save(model, \"class3_detector_fold1.h5\")"
   ]
  }
 ],
 "metadata": {
  "kernelspec": {
   "display_name": "Python 3 (ipykernel)",
   "language": "python",
   "name": "python3"
  },
  "language_info": {
   "codemirror_mode": {
    "name": "ipython",
    "version": 3
   },
   "file_extension": ".py",
   "mimetype": "text/x-python",
   "name": "python",
   "nbconvert_exporter": "python",
   "pygments_lexer": "ipython3",
   "version": "3.7.13"
  }
 },
 "nbformat": 4,
 "nbformat_minor": 4
}
