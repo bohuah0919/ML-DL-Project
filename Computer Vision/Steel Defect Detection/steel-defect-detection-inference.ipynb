{
 "cells": [
  {
   "cell_type": "markdown",
   "id": "b47ae080",
   "metadata": {},
   "source": [
    "# Package and Test Data"
   ]
  },
  {
   "cell_type": "markdown",
   "id": "ec89d2b1",
   "metadata": {},
   "source": [
    "### Because late submitting in this kaggle competition also required close internet. I have to download and upload the required file to kaggle when I submit and see the result. Hence, we can just run the cell below with internet instead of the second cell."
   ]
  },
  {
   "cell_type": "code",
   "execution_count": null,
   "id": "71e6dd4c",
   "metadata": {},
   "outputs": [],
   "source": [
    "!pip install segmentation_models_pytorch -q\n",
    "import segmentation_models_pytorch as smp"
   ]
  },
  {
   "cell_type": "code",
   "execution_count": 1,
   "id": "5b4226c5",
   "metadata": {
    "execution": {
     "iopub.execute_input": "2022-11-08T00:30:12.991936Z",
     "iopub.status.busy": "2022-11-08T00:30:12.991487Z",
     "iopub.status.idle": "2022-11-08T00:30:36.538550Z",
     "shell.execute_reply": "2022-11-08T00:30:36.537421Z"
    },
    "papermill": {
     "duration": 23.559512,
     "end_time": "2022-11-08T00:30:36.541398",
     "exception": false,
     "start_time": "2022-11-08T00:30:12.981886",
     "status": "completed"
    },
    "tags": []
   },
   "outputs": [
    {
     "name": "stdout",
     "output_type": "stream",
     "text": [
      "Looking in links: /tmp/pip/cache/\r\n",
      "Processing /tmp/pip/cache/segmentation_models_pytorch-0.3.0-py3-none-any.whl\r\n",
      "Requirement already satisfied: torchvision>=0.5.0 in /opt/conda/lib/python3.7/site-packages (from segmentation-models-pytorch) (0.12.0)\r\n",
      "Processing /tmp/pip/cache/timm-0.4.12-py3-none-any.whl\r\n",
      "Processing /tmp/pip/cache/pretrainedmodels-0.7.4.tar.gz\r\n",
      "  Preparing metadata (setup.py) ... \u001b[?25l-\b \bdone\r\n",
      "\u001b[?25hProcessing /tmp/pip/cache/efficientnet_pytorch-0.7.1.tar.gz\r\n",
      "  Preparing metadata (setup.py) ... \u001b[?25l-\b \bdone\r\n",
      "\u001b[?25hRequirement already satisfied: tqdm in /opt/conda/lib/python3.7/site-packages (from segmentation-models-pytorch) (4.64.0)\r\n",
      "Requirement already satisfied: pillow in /opt/conda/lib/python3.7/site-packages (from segmentation-models-pytorch) (9.1.1)\r\n",
      "Requirement already satisfied: torch in /opt/conda/lib/python3.7/site-packages (from efficientnet-pytorch==0.7.1->segmentation-models-pytorch) (1.11.0)\r\n",
      "Requirement already satisfied: munch in /opt/conda/lib/python3.7/site-packages (from pretrainedmodels==0.7.4->segmentation-models-pytorch) (2.5.0)\r\n",
      "Requirement already satisfied: requests in /opt/conda/lib/python3.7/site-packages (from torchvision>=0.5.0->segmentation-models-pytorch) (2.28.1)\r\n",
      "Requirement already satisfied: numpy in /opt/conda/lib/python3.7/site-packages (from torchvision>=0.5.0->segmentation-models-pytorch) (1.21.6)\r\n",
      "Requirement already satisfied: typing-extensions in /opt/conda/lib/python3.7/site-packages (from torchvision>=0.5.0->segmentation-models-pytorch) (4.3.0)\r\n",
      "Requirement already satisfied: six in /opt/conda/lib/python3.7/site-packages (from munch->pretrainedmodels==0.7.4->segmentation-models-pytorch) (1.15.0)\r\n",
      "Requirement already satisfied: charset-normalizer<3,>=2 in /opt/conda/lib/python3.7/site-packages (from requests->torchvision>=0.5.0->segmentation-models-pytorch) (2.1.0)\r\n",
      "Requirement already satisfied: certifi>=2017.4.17 in /opt/conda/lib/python3.7/site-packages (from requests->torchvision>=0.5.0->segmentation-models-pytorch) (2022.6.15.2)\r\n",
      "Requirement already satisfied: idna<4,>=2.5 in /opt/conda/lib/python3.7/site-packages (from requests->torchvision>=0.5.0->segmentation-models-pytorch) (3.3)\r\n",
      "Requirement already satisfied: urllib3<1.27,>=1.21.1 in /opt/conda/lib/python3.7/site-packages (from requests->torchvision>=0.5.0->segmentation-models-pytorch) (1.26.12)\r\n",
      "Building wheels for collected packages: efficientnet-pytorch, pretrainedmodels\r\n",
      "  Building wheel for efficientnet-pytorch (setup.py) ... \u001b[?25l-\b \b\\\b \bdone\r\n",
      "\u001b[?25h  Created wheel for efficientnet-pytorch: filename=efficientnet_pytorch-0.7.1-py3-none-any.whl size=16446 sha256=69f30f965ac0c8460e63733507d61546c9996d0352cfa9b5c84df0af05d15814\r\n",
      "  Stored in directory: /root/.cache/pip/wheels/02/50/84/82c97bfff69785108e55a6236d7ba11c83990eed25d4eab240\r\n",
      "  Building wheel for pretrainedmodels (setup.py) ... \u001b[?25l-\b \b\\\b \bdone\r\n",
      "\u001b[?25h  Created wheel for pretrainedmodels: filename=pretrainedmodels-0.7.4-py3-none-any.whl size=60965 sha256=1a639a14bb968cf4b18952b389e6206b2a5fdf958357b3dfaebf6d27989da841\r\n",
      "  Stored in directory: /root/.cache/pip/wheels/10/1f/03/61c3da39f4907ac6ad69ce8078e5be835c4681b842d110d52f\r\n",
      "Successfully built efficientnet-pytorch pretrainedmodels\r\n",
      "Installing collected packages: efficientnet-pytorch, timm, pretrainedmodels, segmentation-models-pytorch\r\n",
      "Successfully installed efficientnet-pytorch-0.7.1 pretrainedmodels-0.7.4 segmentation-models-pytorch-0.3.0 timm-0.4.12\r\n",
      "\u001b[33mWARNING: Running pip as the 'root' user can result in broken permissions and conflicting behaviour with the system package manager. It is recommended to use a virtual environment instead: https://pip.pypa.io/warnings/venv\u001b[0m\u001b[33m\r\n",
      "\u001b[0m"
     ]
    }
   ],
   "source": [
    "!mkdir -p /tmp/pip/cache/\n",
    "!cp ../input/segmentationmodels/segmentation_models_pytorch-0.3.0-py3-none-any.whl /tmp/pip/cache/\n",
    "!cp ../input/segmentationmodels/timm-0.4.12-py3-none-any.whl /tmp/pip/cache/\n",
    "!cp ../input/segmentationmodels/efficientnet_pytorch-0.7.1.xyz /tmp/pip/cache/efficientnet_pytorch-0.7.1.tar.gz\n",
    "!cp ../input/segmentationmodels/pretrainedmodels-0.7.4.xyz /tmp/pip/cache/pretrainedmodels-0.7.4.tar.gz\n",
    "!pip install --no-index --find-links /tmp/pip/cache/ segmentation-models-pytorch\n",
    "import segmentation_models_pytorch as smp"
   ]
  },
  {
   "cell_type": "code",
   "execution_count": 2,
   "id": "e5634e03",
   "metadata": {
    "execution": {
     "iopub.execute_input": "2022-11-08T00:30:36.561119Z",
     "iopub.status.busy": "2022-11-08T00:30:36.560617Z",
     "iopub.status.idle": "2022-11-08T00:30:38.473123Z",
     "shell.execute_reply": "2022-11-08T00:30:38.472174Z"
    },
    "papermill": {
     "duration": 1.924559,
     "end_time": "2022-11-08T00:30:38.475463",
     "exception": false,
     "start_time": "2022-11-08T00:30:36.550904",
     "status": "completed"
    },
    "tags": []
   },
   "outputs": [],
   "source": [
    "import os\n",
    "import matplotlib.pyplot as plt\n",
    "import torch\n",
    "import torchvision\n",
    "from torchvision import datasets, transforms\n",
    "from torch.utils.data import DataLoader, Dataset\n",
    "import numpy as np\n",
    "import pandas as pd\n",
    "from torch import nn, optim\n",
    "from PIL import Image\n",
    "import math\n",
    "import torch.nn.functional as F\n",
    "from torch.nn import Parameter\n",
    "import cv2\n",
    "import albumentations as A\n",
    "from albumentations.pytorch import ToTensorV2\n",
    "from tqdm import tqdm\n",
    "file_dir  = \"../input/severstal-steel-defect-detection/test_images\""
   ]
  },
  {
   "cell_type": "code",
   "execution_count": 3,
   "id": "0b3d7e5b",
   "metadata": {
    "execution": {
     "iopub.execute_input": "2022-11-08T00:30:38.494110Z",
     "iopub.status.busy": "2022-11-08T00:30:38.493348Z",
     "iopub.status.idle": "2022-11-08T00:30:38.785424Z",
     "shell.execute_reply": "2022-11-08T00:30:38.784369Z"
    },
    "papermill": {
     "duration": 0.303873,
     "end_time": "2022-11-08T00:30:38.788179",
     "exception": false,
     "start_time": "2022-11-08T00:30:38.484306",
     "status": "completed"
    },
    "tags": []
   },
   "outputs": [],
   "source": [
    "test = [name for name in (os.listdir(file_dir))]"
   ]
  },
  {
   "cell_type": "markdown",
   "id": "1b557fd6",
   "metadata": {},
   "source": [
    "# Data Channels"
   ]
  },
  {
   "cell_type": "code",
   "execution_count": 4,
   "id": "1013dd2a",
   "metadata": {
    "execution": {
     "iopub.execute_input": "2022-11-08T00:30:38.808793Z",
     "iopub.status.busy": "2022-11-08T00:30:38.807707Z",
     "iopub.status.idle": "2022-11-08T00:30:38.814941Z",
     "shell.execute_reply": "2022-11-08T00:30:38.814036Z"
    },
    "papermill": {
     "duration": 0.018966,
     "end_time": "2022-11-08T00:30:38.816960",
     "exception": false,
     "start_time": "2022-11-08T00:30:38.797994",
     "status": "completed"
    },
    "tags": []
   },
   "outputs": [],
   "source": [
    "class TestDataset(Dataset):\n",
    "    def __init__(self, file_names, file_dir, transform, label_flip = None):\n",
    "        self.file_names = file_names\n",
    "        self.file_dir = file_dir\n",
    "        self.transform = transform\n",
    "    def __getitem__(self, index):\n",
    "      \n",
    "        image = cv2.imread(os.path.join(self.file_dir,self.file_names[index]))\n",
    "        image = cv2.cvtColor(image, cv2.COLOR_BGR2RGB)\n",
    "        \n",
    "        image = self.transform(image=image)[\"image\"]\n",
    "        \n",
    "\n",
    "        return image,self.file_names[index]\n",
    "\n",
    "    \n",
    "    def __len__(self):\n",
    "        return len(self.file_names)"
   ]
  },
  {
   "cell_type": "code",
   "execution_count": 5,
   "id": "26fb7ebe",
   "metadata": {
    "execution": {
     "iopub.execute_input": "2022-11-08T00:30:38.834705Z",
     "iopub.status.busy": "2022-11-08T00:30:38.834426Z",
     "iopub.status.idle": "2022-11-08T00:30:38.841252Z",
     "shell.execute_reply": "2022-11-08T00:30:38.840247Z"
    },
    "papermill": {
     "duration": 0.017962,
     "end_time": "2022-11-08T00:30:38.843394",
     "exception": false,
     "start_time": "2022-11-08T00:30:38.825432",
     "status": "completed"
    },
    "tags": []
   },
   "outputs": [],
   "source": [
    "classification_transform = A.Compose([A.Normalize(mean=[0.485, 0.456, 0.406],\n",
    "                                        std=[0.229, 0.224, 0.225]),\n",
    "                           ToTensorV2()])\n",
    "detection_transform = A.Compose([A.Normalize(mean=[0.485, 0.456, 0.406],\n",
    "                                        std=[0.229, 0.224, 0.225]),\n",
    "                           ToTensorV2()])"
   ]
  },
  {
   "cell_type": "markdown",
   "id": "a799f2e6",
   "metadata": {},
   "source": [
    "# Load Models"
   ]
  },
  {
   "cell_type": "code",
   "execution_count": 6,
   "id": "066a5f64",
   "metadata": {
    "execution": {
     "iopub.execute_input": "2022-11-08T00:30:38.860582Z",
     "iopub.status.busy": "2022-11-08T00:30:38.860313Z",
     "iopub.status.idle": "2022-11-08T00:30:38.927869Z",
     "shell.execute_reply": "2022-11-08T00:30:38.926702Z"
    },
    "papermill": {
     "duration": 0.079138,
     "end_time": "2022-11-08T00:30:38.930601",
     "exception": false,
     "start_time": "2022-11-08T00:30:38.851463",
     "status": "completed"
    },
    "tags": []
   },
   "outputs": [
    {
     "name": "stdout",
     "output_type": "stream",
     "text": [
      "cuda\n"
     ]
    }
   ],
   "source": [
    "device = torch.device('cuda' if torch.cuda.is_available() else 'cpu')\n",
    "print(device)"
   ]
  },
  {
   "cell_type": "markdown",
   "id": "6bd3a6ef",
   "metadata": {},
   "source": [
    "### I use three different models to classify the defect, get mean of the probablities of these models for each pixel instead of getting the probalities of one model. It is called ensemble."
   ]
  },
  {
   "cell_type": "code",
   "execution_count": 7,
   "id": "89785f14",
   "metadata": {
    "execution": {
     "iopub.execute_input": "2022-11-08T00:30:38.949364Z",
     "iopub.status.busy": "2022-11-08T00:30:38.948535Z",
     "iopub.status.idle": "2022-11-08T00:30:44.635399Z",
     "shell.execute_reply": "2022-11-08T00:30:44.634331Z"
    },
    "papermill": {
     "duration": 5.69883,
     "end_time": "2022-11-08T00:30:44.638284",
     "exception": false,
     "start_time": "2022-11-08T00:30:38.939454",
     "status": "completed"
    },
    "tags": []
   },
   "outputs": [],
   "source": [
    "#classifier_model1 = torch.load(\"../input/steel-classifier-model-fold2/classifier_fold2.h5\").to(device)\n",
    "#classifier_model1 = torch.load(\"../input/steel-classifier-model-fold4/classifier_fold4.h5\").to(device)\n",
    "classifier_model1 = torch.load(\"../input/steel-classifier-model-fold7/classifier_fold7.h5\").to(device)\n",
    "classifier_model2 = torch.load(\"../input/steel-classifier-model-fold1-efficientnet/classifier_fold1_efficientnet_b3.h5\").to(device)\n",
    "#classifier_model2 = torch.load(\"../input/steel-classifier-model-fold4-resnext50/classifier_fold4_resnext50.h5\").to(device)\n",
    "classifier_model3 = torch.load(\"../input/steel-classifier-model-fold2-efficientnet/classifier_fold2_efficientnet_b3.h5\").to(device)\n",
    "#classifier_model4 = torch.load(\"../input/steel-classifier-model-fold3-efficientnet/classifier_fold3_efficientnet_b3.h5\").to(device)\n",
    "classifier_models = [classifier_model1,classifier_model2,classifier_model3]"
   ]
  },
  {
   "cell_type": "markdown",
   "id": "2ebfdf1d",
   "metadata": {},
   "source": [
    "### Function \"tensor_to_str\" get the result from models, determine whether this kind of defect exists by threshold 0.55 for each class of defect, and create four tuples for storing information with form (filename, defect class, whether this kind of defect exists in this image) for each images."
   ]
  },
  {
   "cell_type": "code",
   "execution_count": 8,
   "id": "1fbe8fbe",
   "metadata": {
    "execution": {
     "iopub.execute_input": "2022-11-08T00:30:44.657062Z",
     "iopub.status.busy": "2022-11-08T00:30:44.656748Z",
     "iopub.status.idle": "2022-11-08T00:30:44.662527Z",
     "shell.execute_reply": "2022-11-08T00:30:44.661471Z"
    },
    "papermill": {
     "duration": 0.017318,
     "end_time": "2022-11-08T00:30:44.664681",
     "exception": false,
     "start_time": "2022-11-08T00:30:44.647363",
     "status": "completed"
    },
    "tags": []
   },
   "outputs": [],
   "source": [
    "def tensor_to_str(inputs, filename):\n",
    "    inputs = inputs.view(-1)\n",
    "    result = []\n",
    "    for i in range(1,5):\n",
    "        if inputs[i] > 0.55:\n",
    "            result.append((filename, i, True))\n",
    "        else:\n",
    "            result.append((filename, i, False))\n",
    "    return result"
   ]
  },
  {
   "cell_type": "markdown",
   "id": "9ae7a06c",
   "metadata": {},
   "source": [
    "# Classification"
   ]
  },
  {
   "cell_type": "markdown",
   "id": "369ff8da",
   "metadata": {},
   "source": [
    "### Function \"classified_df\" uses given models and data for classification. It firstly ensemble three models get the result with test time augmentation (TTA) which is horizontal flip to get the result. And then, it uses function \"tensor_to_str\" to change results to tuples, and store them in an array. Finally, change the array of tuples to a Pandas Dataframe."
   ]
  },
  {
   "cell_type": "code",
   "execution_count": 9,
   "id": "39e90f67",
   "metadata": {
    "execution": {
     "iopub.execute_input": "2022-11-08T00:30:44.682267Z",
     "iopub.status.busy": "2022-11-08T00:30:44.681971Z",
     "iopub.status.idle": "2022-11-08T00:30:44.691207Z",
     "shell.execute_reply": "2022-11-08T00:30:44.690202Z"
    },
    "papermill": {
     "duration": 0.02048,
     "end_time": "2022-11-08T00:30:44.693352",
     "exception": false,
     "start_time": "2022-11-08T00:30:44.672872",
     "status": "completed"
    },
    "tags": []
   },
   "outputs": [],
   "source": [
    "def classified_df(models, data_loader):\n",
    "    result = []\n",
    "    with torch.no_grad():  \n",
    "          for image,file_name in tqdm(data_loader):\n",
    "                inputs = torch.zeros(1, 5).to(device)\n",
    "                h_image = torch.flip(image, dims=[3]).to(device)\n",
    "                for model in models:\n",
    "                    model.eval()\n",
    "                    image = image.to(device)\n",
    "                    out = torch.sigmoid(model(image))\n",
    "                    inputs = inputs + out\n",
    "                    out = torch.sigmoid(model(h_image))\n",
    "                    inputs = inputs + out\n",
    "                        \n",
    "                #inputs =  inputs/len(models)\n",
    "                inputs =  inputs/(2*len(models))\n",
    "                pred = tensor_to_str(inputs, file_name[0])\n",
    "                result += pred\n",
    "                \n",
    "    return pd.DataFrame(result, columns = [\"ImageId\", \"ClassId\", \"ClassExist\"])"
   ]
  },
  {
   "cell_type": "code",
   "execution_count": 10,
   "id": "62a2aa82",
   "metadata": {
    "execution": {
     "iopub.execute_input": "2022-11-08T00:30:44.712476Z",
     "iopub.status.busy": "2022-11-08T00:30:44.711136Z",
     "iopub.status.idle": "2022-11-08T00:30:44.716400Z",
     "shell.execute_reply": "2022-11-08T00:30:44.715520Z"
    },
    "papermill": {
     "duration": 0.0165,
     "end_time": "2022-11-08T00:30:44.718517",
     "exception": false,
     "start_time": "2022-11-08T00:30:44.702017",
     "status": "completed"
    },
    "tags": []
   },
   "outputs": [],
   "source": [
    "classification_data = TestDataset(test, file_dir, transform =classification_transform)"
   ]
  },
  {
   "cell_type": "code",
   "execution_count": 11,
   "id": "73f92dfb",
   "metadata": {
    "execution": {
     "iopub.execute_input": "2022-11-08T00:30:44.736041Z",
     "iopub.status.busy": "2022-11-08T00:30:44.735758Z",
     "iopub.status.idle": "2022-11-08T00:30:44.740553Z",
     "shell.execute_reply": "2022-11-08T00:30:44.739649Z"
    },
    "papermill": {
     "duration": 0.015642,
     "end_time": "2022-11-08T00:30:44.742496",
     "exception": false,
     "start_time": "2022-11-08T00:30:44.726854",
     "status": "completed"
    },
    "tags": []
   },
   "outputs": [],
   "source": [
    "classification_data_loader = DataLoader(classification_data, batch_size = 1, shuffle=False)"
   ]
  },
  {
   "cell_type": "code",
   "execution_count": 12,
   "id": "049c886a",
   "metadata": {
    "execution": {
     "iopub.execute_input": "2022-11-08T00:30:44.760147Z",
     "iopub.status.busy": "2022-11-08T00:30:44.759460Z",
     "iopub.status.idle": "2022-11-08T00:41:35.491367Z",
     "shell.execute_reply": "2022-11-08T00:41:35.490264Z"
    },
    "papermill": {
     "duration": 650.744154,
     "end_time": "2022-11-08T00:41:35.494803",
     "exception": false,
     "start_time": "2022-11-08T00:30:44.750649",
     "status": "completed"
    },
    "tags": []
   },
   "outputs": [
    {
     "name": "stderr",
     "output_type": "stream",
     "text": [
      "100%|██████████| 5506/5506 [10:50<00:00,  8.46it/s]\n"
     ]
    }
   ],
   "source": [
    "df = classified_df(classifier_models, classification_data_loader)"
   ]
  },
  {
   "cell_type": "code",
   "execution_count": 13,
   "id": "db20138e",
   "metadata": {
    "execution": {
     "iopub.execute_input": "2022-11-08T00:41:36.102488Z",
     "iopub.status.busy": "2022-11-08T00:41:36.102124Z",
     "iopub.status.idle": "2022-11-08T00:41:36.123002Z",
     "shell.execute_reply": "2022-11-08T00:41:36.121978Z"
    },
    "papermill": {
     "duration": 0.351702,
     "end_time": "2022-11-08T00:41:36.125557",
     "exception": false,
     "start_time": "2022-11-08T00:41:35.773855",
     "status": "completed"
    },
    "tags": []
   },
   "outputs": [
    {
     "data": {
      "text/html": [
       "<div>\n",
       "<style scoped>\n",
       "    .dataframe tbody tr th:only-of-type {\n",
       "        vertical-align: middle;\n",
       "    }\n",
       "\n",
       "    .dataframe tbody tr th {\n",
       "        vertical-align: top;\n",
       "    }\n",
       "\n",
       "    .dataframe thead th {\n",
       "        text-align: right;\n",
       "    }\n",
       "</style>\n",
       "<table border=\"1\" class=\"dataframe\">\n",
       "  <thead>\n",
       "    <tr style=\"text-align: right;\">\n",
       "      <th></th>\n",
       "      <th>ImageId</th>\n",
       "      <th>ClassId</th>\n",
       "      <th>ClassExist</th>\n",
       "    </tr>\n",
       "  </thead>\n",
       "  <tbody>\n",
       "    <tr>\n",
       "      <th>0</th>\n",
       "      <td>6d2a4005f.jpg</td>\n",
       "      <td>1</td>\n",
       "      <td>False</td>\n",
       "    </tr>\n",
       "    <tr>\n",
       "      <th>1</th>\n",
       "      <td>6d2a4005f.jpg</td>\n",
       "      <td>2</td>\n",
       "      <td>False</td>\n",
       "    </tr>\n",
       "    <tr>\n",
       "      <th>2</th>\n",
       "      <td>6d2a4005f.jpg</td>\n",
       "      <td>3</td>\n",
       "      <td>False</td>\n",
       "    </tr>\n",
       "    <tr>\n",
       "      <th>3</th>\n",
       "      <td>6d2a4005f.jpg</td>\n",
       "      <td>4</td>\n",
       "      <td>True</td>\n",
       "    </tr>\n",
       "    <tr>\n",
       "      <th>4</th>\n",
       "      <td>a2491cf5f.jpg</td>\n",
       "      <td>1</td>\n",
       "      <td>False</td>\n",
       "    </tr>\n",
       "    <tr>\n",
       "      <th>...</th>\n",
       "      <td>...</td>\n",
       "      <td>...</td>\n",
       "      <td>...</td>\n",
       "    </tr>\n",
       "    <tr>\n",
       "      <th>22019</th>\n",
       "      <td>b3912fc50.jpg</td>\n",
       "      <td>4</td>\n",
       "      <td>False</td>\n",
       "    </tr>\n",
       "    <tr>\n",
       "      <th>22020</th>\n",
       "      <td>e4612d7c4.jpg</td>\n",
       "      <td>1</td>\n",
       "      <td>False</td>\n",
       "    </tr>\n",
       "    <tr>\n",
       "      <th>22021</th>\n",
       "      <td>e4612d7c4.jpg</td>\n",
       "      <td>2</td>\n",
       "      <td>False</td>\n",
       "    </tr>\n",
       "    <tr>\n",
       "      <th>22022</th>\n",
       "      <td>e4612d7c4.jpg</td>\n",
       "      <td>3</td>\n",
       "      <td>True</td>\n",
       "    </tr>\n",
       "    <tr>\n",
       "      <th>22023</th>\n",
       "      <td>e4612d7c4.jpg</td>\n",
       "      <td>4</td>\n",
       "      <td>False</td>\n",
       "    </tr>\n",
       "  </tbody>\n",
       "</table>\n",
       "<p>22024 rows × 3 columns</p>\n",
       "</div>"
      ],
      "text/plain": [
       "             ImageId  ClassId  ClassExist\n",
       "0      6d2a4005f.jpg        1       False\n",
       "1      6d2a4005f.jpg        2       False\n",
       "2      6d2a4005f.jpg        3       False\n",
       "3      6d2a4005f.jpg        4        True\n",
       "4      a2491cf5f.jpg        1       False\n",
       "...              ...      ...         ...\n",
       "22019  b3912fc50.jpg        4       False\n",
       "22020  e4612d7c4.jpg        1       False\n",
       "22021  e4612d7c4.jpg        2       False\n",
       "22022  e4612d7c4.jpg        3        True\n",
       "22023  e4612d7c4.jpg        4       False\n",
       "\n",
       "[22024 rows x 3 columns]"
      ]
     },
     "execution_count": 13,
     "metadata": {},
     "output_type": "execute_result"
    }
   ],
   "source": [
    "df"
   ]
  },
  {
   "cell_type": "markdown",
   "id": "166ae1d3",
   "metadata": {},
   "source": [
    "# Detection"
   ]
  },
  {
   "cell_type": "markdown",
   "id": "b8f0cac1",
   "metadata": {},
   "source": [
    "### Function \"drop_small_area\" determines whether defect exists for each pixel by threshold. Then, it uses algorithm for cv2 to find each components in the mask numpy array, and change the defect with area smaller than parameter \"min_size\" to no defect. This operation can reduce the effect of noise in prediction. Notice I check if sum of pixels of defect less than \"min_size\" because I want to skip the algorithm when it is uncessary to do."
   ]
  },
  {
   "cell_type": "code",
   "execution_count": 16,
   "id": "48d79699",
   "metadata": {
    "execution": {
     "iopub.execute_input": "2022-11-08T00:41:38.013244Z",
     "iopub.status.busy": "2022-11-08T00:41:38.012813Z",
     "iopub.status.idle": "2022-11-08T00:41:38.023084Z",
     "shell.execute_reply": "2022-11-08T00:41:38.022164Z"
    },
    "papermill": {
     "duration": 0.419636,
     "end_time": "2022-11-08T00:41:38.025539",
     "exception": false,
     "start_time": "2022-11-08T00:41:37.605903",
     "status": "completed"
    },
    "tags": []
   },
   "outputs": [],
   "source": [
    "def drop_small_area(inputs, threshold, min_size):\n",
    "    predictions = np.zeros((256, 1600), np.float32)\n",
    "    inputs = inputs.cpu().detach().numpy()\n",
    "    if inputs.sum() < min_size:\n",
    "        return predictions \n",
    "    mask = cv2.threshold(inputs, threshold, 1, cv2.THRESH_BINARY)[1]\n",
    "    num_component, component = cv2.connectedComponents(mask.astype(np.uint8))\n",
    "    for c in range(1, num_component):\n",
    "        p = (component == c)\n",
    "        if p.sum() > min_size:\n",
    "            predictions[p] = 1\n",
    "    return predictions"
   ]
  },
  {
   "cell_type": "markdown",
   "id": "20d67d06",
   "metadata": {},
   "source": [
    "### Function \"mask_to_pred\" is inverse of function \"rle2mask\" which declared in notebook \"class3-detection-fold1.ipynb\". Notice I check if sum of pixels which is defect equal to zero because I want to skip searching 1s in numpy array, which is a O(n) algorithm costs much time, where n is the total pixels 256*1600 in image."
   ]
  },
  {
   "cell_type": "code",
   "execution_count": 17,
   "id": "e965c0df",
   "metadata": {
    "execution": {
     "iopub.execute_input": "2022-11-08T00:41:38.705876Z",
     "iopub.status.busy": "2022-11-08T00:41:38.705497Z",
     "iopub.status.idle": "2022-11-08T00:41:38.712589Z",
     "shell.execute_reply": "2022-11-08T00:41:38.711625Z"
    },
    "papermill": {
     "duration": 0.290064,
     "end_time": "2022-11-08T00:41:38.714555",
     "exception": false,
     "start_time": "2022-11-08T00:41:38.424491",
     "status": "completed"
    },
    "tags": []
   },
   "outputs": [],
   "source": [
    "def mask_to_pred(inputs):\n",
    "    inputs = np.rot90(np.flipud(inputs), k=3)\n",
    "    inputs = inputs.reshape(-1,1)\n",
    "    start_count = False\n",
    "    result = []\n",
    "    count = 0\n",
    "    if inputs.sum() == 0:\n",
    "        return \"\"\n",
    "    \n",
    "    for i in range(len(inputs)):\n",
    "        if inputs[i] == 1:\n",
    "            if not start_count:\n",
    "                start_count = True\n",
    "                result.append(str(i))\n",
    "            count += 1\n",
    "        elif inputs[i] == 0 and start_count:\n",
    "            result.append(str(count))\n",
    "            count = 0\n",
    "            start_count = False\n",
    "    \n",
    "    return \" \".join(result)            "
   ]
  },
  {
   "cell_type": "markdown",
   "id": "ca9b5841",
   "metadata": {},
   "source": [
    "### Function \"detection_df\" uses given models and data for classification. It firstly ensemble three models get the result with test time augmentation (TTA) which is horizontal flip to get the result. And then, it uses function \"drop_small_area\" to reduce the effect of noise. Finally, use function \"mask_to_pred\" to change result to an appropriate form for competition, and store them in an array."
   ]
  },
  {
   "cell_type": "code",
   "execution_count": 18,
   "id": "fbf743ff",
   "metadata": {
    "execution": {
     "iopub.execute_input": "2022-11-08T00:41:39.327058Z",
     "iopub.status.busy": "2022-11-08T00:41:39.326702Z",
     "iopub.status.idle": "2022-11-08T00:41:39.335969Z",
     "shell.execute_reply": "2022-11-08T00:41:39.335084Z"
    },
    "papermill": {
     "duration": 0.297023,
     "end_time": "2022-11-08T00:41:39.338180",
     "exception": false,
     "start_time": "2022-11-08T00:41:39.041157",
     "status": "completed"
    },
    "tags": []
   },
   "outputs": [],
   "source": [
    "def detection_df(models, data_loader, threshold, min_size):\n",
    "    encoded_pixels = []\n",
    "    with torch.no_grad():  \n",
    "          for image,file_name in tqdm(data_loader):\n",
    "                inputs = torch.zeros(256, 1600).to(device)\n",
    "                h_image = torch.flip(image, dims=[3]).to(device)\n",
    "                for model in models:\n",
    "                    model.eval()\n",
    "                    image = image.to(device)\n",
    "                    pred = torch.sigmoid(model(image))\n",
    "                    inputs = inputs + pred\n",
    "                    pred = torch.flip(torch.sigmoid(model(h_image)), dims=[3])\n",
    "                    inputs = inputs + pred\n",
    "    \n",
    "                inputs =  inputs/(2*len(models))\n",
    "                inputs = inputs.permute(2,3,0,1)\n",
    "                inputs=drop_small_area(inputs, threshold, min_size)              \n",
    "                encoded_pixels.append(mask_to_pred(inputs))\n",
    "                \n",
    "    return encoded_pixels"
   ]
  },
  {
   "cell_type": "code",
   "execution_count": 19,
   "id": "13063cce",
   "metadata": {
    "execution": {
     "iopub.execute_input": "2022-11-08T00:41:39.903933Z",
     "iopub.status.busy": "2022-11-08T00:41:39.903564Z",
     "iopub.status.idle": "2022-11-08T00:41:43.118559Z",
     "shell.execute_reply": "2022-11-08T00:41:43.117627Z"
    },
    "papermill": {
     "duration": 3.496869,
     "end_time": "2022-11-08T00:41:43.121263",
     "exception": false,
     "start_time": "2022-11-08T00:41:39.624394",
     "status": "completed"
    },
    "tags": []
   },
   "outputs": [],
   "source": [
    "detection_class4_model1 = torch.load(\"../input/steel-detection-model-fold5-class4/class4_detector_fold5.h5\").to(device)\n",
    "detection_class4_model2 = torch.load(\"../input/steel-detection-model-fold1-class4-fpn/class4_detector_fold1_FPN.h5\").to(device)\n",
    "detection_class4_model3 = torch.load(\"../input/steel-detection-model-fold2-class4/class4_detector_fold2.h5\").to(device)\n",
    "detection_class4_models = [detection_class4_model1,detection_class4_model2,detection_class4_model3]\n",
    "#detection_class4_models = [detection_class4_model1,detection_class4_model2]"
   ]
  },
  {
   "cell_type": "code",
   "execution_count": 20,
   "id": "7285f736",
   "metadata": {
    "execution": {
     "iopub.execute_input": "2022-11-08T00:41:43.721655Z",
     "iopub.status.busy": "2022-11-08T00:41:43.721277Z",
     "iopub.status.idle": "2022-11-08T00:41:45.808988Z",
     "shell.execute_reply": "2022-11-08T00:41:45.808001Z"
    },
    "papermill": {
     "duration": 2.372151,
     "end_time": "2022-11-08T00:41:45.811305",
     "exception": false,
     "start_time": "2022-11-08T00:41:43.439154",
     "status": "completed"
    },
    "tags": []
   },
   "outputs": [],
   "source": [
    "#detection_class3_model1 = torch.load(\"../input/steel-detection-model-fold1-class3/class3_detector_fold1.h5\").to(device)\n",
    "detection_class3_model1 = torch.load(\"../input/steel-detection-model-fold1-class3-fpn/class3_detector_fold1_FPN.h5\").to(device)\n",
    "detection_class3_model2 = torch.load(\"../input/steel-detection-model-fold2-class3/class3_detector_fold2.h5\").to(device)\n",
    "detection_class3_model3 = torch.load(\"../input/steel-detection-model-fold3-class3/class3_detector_fold3.h5\").to(device)\n",
    "detection_class3_models = [detection_class3_model1,detection_class3_model2,detection_class3_model3]\n",
    "#detection_class3_models = [detection_class3_model1,detection_class3_model2]"
   ]
  },
  {
   "cell_type": "code",
   "execution_count": 21,
   "id": "0a7083d8",
   "metadata": {
    "execution": {
     "iopub.execute_input": "2022-11-08T00:41:46.366860Z",
     "iopub.status.busy": "2022-11-08T00:41:46.366480Z",
     "iopub.status.idle": "2022-11-08T00:41:46.374131Z",
     "shell.execute_reply": "2022-11-08T00:41:46.373124Z"
    },
    "papermill": {
     "duration": 0.285355,
     "end_time": "2022-11-08T00:41:46.376199",
     "exception": false,
     "start_time": "2022-11-08T00:41:46.090844",
     "status": "completed"
    },
    "tags": []
   },
   "outputs": [],
   "source": [
    "df_class4 = df[(df[\"ClassId\"]==4) & df[\"ClassExist\"]]\n",
    "df_class3 = df[(df[\"ClassId\"]==3) & df[\"ClassExist\"]]"
   ]
  },
  {
   "cell_type": "code",
   "execution_count": 22,
   "id": "78e080d0",
   "metadata": {
    "execution": {
     "iopub.execute_input": "2022-11-08T00:41:46.976321Z",
     "iopub.status.busy": "2022-11-08T00:41:46.975966Z",
     "iopub.status.idle": "2022-11-08T00:41:46.989497Z",
     "shell.execute_reply": "2022-11-08T00:41:46.988610Z"
    },
    "papermill": {
     "duration": 0.342008,
     "end_time": "2022-11-08T00:41:46.991657",
     "exception": false,
     "start_time": "2022-11-08T00:41:46.649649",
     "status": "completed"
    },
    "tags": []
   },
   "outputs": [
    {
     "data": {
      "text/html": [
       "<div>\n",
       "<style scoped>\n",
       "    .dataframe tbody tr th:only-of-type {\n",
       "        vertical-align: middle;\n",
       "    }\n",
       "\n",
       "    .dataframe tbody tr th {\n",
       "        vertical-align: top;\n",
       "    }\n",
       "\n",
       "    .dataframe thead th {\n",
       "        text-align: right;\n",
       "    }\n",
       "</style>\n",
       "<table border=\"1\" class=\"dataframe\">\n",
       "  <thead>\n",
       "    <tr style=\"text-align: right;\">\n",
       "      <th></th>\n",
       "      <th>ImageId</th>\n",
       "      <th>ClassId</th>\n",
       "      <th>ClassExist</th>\n",
       "    </tr>\n",
       "  </thead>\n",
       "  <tbody>\n",
       "    <tr>\n",
       "      <th>3</th>\n",
       "      <td>6d2a4005f.jpg</td>\n",
       "      <td>4</td>\n",
       "      <td>True</td>\n",
       "    </tr>\n",
       "    <tr>\n",
       "      <th>59</th>\n",
       "      <td>b1e55236c.jpg</td>\n",
       "      <td>4</td>\n",
       "      <td>True</td>\n",
       "    </tr>\n",
       "    <tr>\n",
       "      <th>83</th>\n",
       "      <td>0dca5a37d.jpg</td>\n",
       "      <td>4</td>\n",
       "      <td>True</td>\n",
       "    </tr>\n",
       "    <tr>\n",
       "      <th>167</th>\n",
       "      <td>c530161a6.jpg</td>\n",
       "      <td>4</td>\n",
       "      <td>True</td>\n",
       "    </tr>\n",
       "    <tr>\n",
       "      <th>183</th>\n",
       "      <td>1e446e941.jpg</td>\n",
       "      <td>4</td>\n",
       "      <td>True</td>\n",
       "    </tr>\n",
       "    <tr>\n",
       "      <th>...</th>\n",
       "      <td>...</td>\n",
       "      <td>...</td>\n",
       "      <td>...</td>\n",
       "    </tr>\n",
       "    <tr>\n",
       "      <th>21399</th>\n",
       "      <td>3cfda2739.jpg</td>\n",
       "      <td>4</td>\n",
       "      <td>True</td>\n",
       "    </tr>\n",
       "    <tr>\n",
       "      <th>21427</th>\n",
       "      <td>75779fab1.jpg</td>\n",
       "      <td>4</td>\n",
       "      <td>True</td>\n",
       "    </tr>\n",
       "    <tr>\n",
       "      <th>21671</th>\n",
       "      <td>be16b3bd7.jpg</td>\n",
       "      <td>4</td>\n",
       "      <td>True</td>\n",
       "    </tr>\n",
       "    <tr>\n",
       "      <th>21739</th>\n",
       "      <td>f39068d43.jpg</td>\n",
       "      <td>4</td>\n",
       "      <td>True</td>\n",
       "    </tr>\n",
       "    <tr>\n",
       "      <th>21871</th>\n",
       "      <td>5a7c94126.jpg</td>\n",
       "      <td>4</td>\n",
       "      <td>True</td>\n",
       "    </tr>\n",
       "  </tbody>\n",
       "</table>\n",
       "<p>500 rows × 3 columns</p>\n",
       "</div>"
      ],
      "text/plain": [
       "             ImageId  ClassId  ClassExist\n",
       "3      6d2a4005f.jpg        4        True\n",
       "59     b1e55236c.jpg        4        True\n",
       "83     0dca5a37d.jpg        4        True\n",
       "167    c530161a6.jpg        4        True\n",
       "183    1e446e941.jpg        4        True\n",
       "...              ...      ...         ...\n",
       "21399  3cfda2739.jpg        4        True\n",
       "21427  75779fab1.jpg        4        True\n",
       "21671  be16b3bd7.jpg        4        True\n",
       "21739  f39068d43.jpg        4        True\n",
       "21871  5a7c94126.jpg        4        True\n",
       "\n",
       "[500 rows x 3 columns]"
      ]
     },
     "execution_count": 22,
     "metadata": {},
     "output_type": "execute_result"
    }
   ],
   "source": [
    "df_class4"
   ]
  },
  {
   "cell_type": "code",
   "execution_count": 23,
   "id": "72923d80",
   "metadata": {
    "execution": {
     "iopub.execute_input": "2022-11-08T00:41:47.547496Z",
     "iopub.status.busy": "2022-11-08T00:41:47.546506Z",
     "iopub.status.idle": "2022-11-08T00:41:47.561498Z",
     "shell.execute_reply": "2022-11-08T00:41:47.560563Z"
    },
    "papermill": {
     "duration": 0.294937,
     "end_time": "2022-11-08T00:41:47.563705",
     "exception": false,
     "start_time": "2022-11-08T00:41:47.268768",
     "status": "completed"
    },
    "tags": []
   },
   "outputs": [
    {
     "data": {
      "text/html": [
       "<div>\n",
       "<style scoped>\n",
       "    .dataframe tbody tr th:only-of-type {\n",
       "        vertical-align: middle;\n",
       "    }\n",
       "\n",
       "    .dataframe tbody tr th {\n",
       "        vertical-align: top;\n",
       "    }\n",
       "\n",
       "    .dataframe thead th {\n",
       "        text-align: right;\n",
       "    }\n",
       "</style>\n",
       "<table border=\"1\" class=\"dataframe\">\n",
       "  <thead>\n",
       "    <tr style=\"text-align: right;\">\n",
       "      <th></th>\n",
       "      <th>ImageId</th>\n",
       "      <th>ClassId</th>\n",
       "      <th>ClassExist</th>\n",
       "    </tr>\n",
       "  </thead>\n",
       "  <tbody>\n",
       "    <tr>\n",
       "      <th>10</th>\n",
       "      <td>0854a9de6.jpg</td>\n",
       "      <td>3</td>\n",
       "      <td>True</td>\n",
       "    </tr>\n",
       "    <tr>\n",
       "      <th>22</th>\n",
       "      <td>f4d56263d.jpg</td>\n",
       "      <td>3</td>\n",
       "      <td>True</td>\n",
       "    </tr>\n",
       "    <tr>\n",
       "      <th>26</th>\n",
       "      <td>7b75c6da8.jpg</td>\n",
       "      <td>3</td>\n",
       "      <td>True</td>\n",
       "    </tr>\n",
       "    <tr>\n",
       "      <th>30</th>\n",
       "      <td>9f51a0553.jpg</td>\n",
       "      <td>3</td>\n",
       "      <td>True</td>\n",
       "    </tr>\n",
       "    <tr>\n",
       "      <th>34</th>\n",
       "      <td>732f9ff8b.jpg</td>\n",
       "      <td>3</td>\n",
       "      <td>True</td>\n",
       "    </tr>\n",
       "    <tr>\n",
       "      <th>...</th>\n",
       "      <td>...</td>\n",
       "      <td>...</td>\n",
       "      <td>...</td>\n",
       "    </tr>\n",
       "    <tr>\n",
       "      <th>21994</th>\n",
       "      <td>6ec0efcf3.jpg</td>\n",
       "      <td>3</td>\n",
       "      <td>True</td>\n",
       "    </tr>\n",
       "    <tr>\n",
       "      <th>21998</th>\n",
       "      <td>af71eb041.jpg</td>\n",
       "      <td>3</td>\n",
       "      <td>True</td>\n",
       "    </tr>\n",
       "    <tr>\n",
       "      <th>22006</th>\n",
       "      <td>c7f574347.jpg</td>\n",
       "      <td>3</td>\n",
       "      <td>True</td>\n",
       "    </tr>\n",
       "    <tr>\n",
       "      <th>22018</th>\n",
       "      <td>b3912fc50.jpg</td>\n",
       "      <td>3</td>\n",
       "      <td>True</td>\n",
       "    </tr>\n",
       "    <tr>\n",
       "      <th>22022</th>\n",
       "      <td>e4612d7c4.jpg</td>\n",
       "      <td>3</td>\n",
       "      <td>True</td>\n",
       "    </tr>\n",
       "  </tbody>\n",
       "</table>\n",
       "<p>3046 rows × 3 columns</p>\n",
       "</div>"
      ],
      "text/plain": [
       "             ImageId  ClassId  ClassExist\n",
       "10     0854a9de6.jpg        3        True\n",
       "22     f4d56263d.jpg        3        True\n",
       "26     7b75c6da8.jpg        3        True\n",
       "30     9f51a0553.jpg        3        True\n",
       "34     732f9ff8b.jpg        3        True\n",
       "...              ...      ...         ...\n",
       "21994  6ec0efcf3.jpg        3        True\n",
       "21998  af71eb041.jpg        3        True\n",
       "22006  c7f574347.jpg        3        True\n",
       "22018  b3912fc50.jpg        3        True\n",
       "22022  e4612d7c4.jpg        3        True\n",
       "\n",
       "[3046 rows x 3 columns]"
      ]
     },
     "execution_count": 23,
     "metadata": {},
     "output_type": "execute_result"
    }
   ],
   "source": [
    "df_class3"
   ]
  },
  {
   "cell_type": "code",
   "execution_count": 24,
   "id": "7ff6f3f0",
   "metadata": {
    "execution": {
     "iopub.execute_input": "2022-11-08T00:41:48.123633Z",
     "iopub.status.busy": "2022-11-08T00:41:48.123266Z",
     "iopub.status.idle": "2022-11-08T00:41:48.128525Z",
     "shell.execute_reply": "2022-11-08T00:41:48.127530Z"
    },
    "papermill": {
     "duration": 0.288998,
     "end_time": "2022-11-08T00:41:48.130828",
     "exception": false,
     "start_time": "2022-11-08T00:41:47.841830",
     "status": "completed"
    },
    "tags": []
   },
   "outputs": [],
   "source": [
    "test_class4 = df_class4[\"ImageId\"].tolist()\n",
    "test_class3 = df_class3[\"ImageId\"].tolist()"
   ]
  },
  {
   "cell_type": "code",
   "execution_count": 25,
   "id": "1faa78d4",
   "metadata": {
    "execution": {
     "iopub.execute_input": "2022-11-08T00:41:48.763859Z",
     "iopub.status.busy": "2022-11-08T00:41:48.763248Z",
     "iopub.status.idle": "2022-11-08T00:41:48.770983Z",
     "shell.execute_reply": "2022-11-08T00:41:48.768533Z"
    },
    "papermill": {
     "duration": 0.319943,
     "end_time": "2022-11-08T00:41:48.774340",
     "exception": false,
     "start_time": "2022-11-08T00:41:48.454397",
     "status": "completed"
    },
    "tags": []
   },
   "outputs": [],
   "source": [
    "detection_class4_data = TestDataset(test_class4, file_dir, transform = detection_transform)\n",
    "detection_class3_data = TestDataset(test_class3, file_dir, transform = detection_transform)"
   ]
  },
  {
   "cell_type": "code",
   "execution_count": 26,
   "id": "a8eb3f5b",
   "metadata": {
    "execution": {
     "iopub.execute_input": "2022-11-08T00:41:49.585279Z",
     "iopub.status.busy": "2022-11-08T00:41:49.584685Z",
     "iopub.status.idle": "2022-11-08T00:41:49.589665Z",
     "shell.execute_reply": "2022-11-08T00:41:49.588723Z"
    },
    "papermill": {
     "duration": 0.324129,
     "end_time": "2022-11-08T00:41:49.592179",
     "exception": false,
     "start_time": "2022-11-08T00:41:49.268050",
     "status": "completed"
    },
    "tags": []
   },
   "outputs": [],
   "source": [
    "detection_class4_data_loader = DataLoader(detection_class4_data, batch_size = 1, shuffle=False)\n",
    "detection_class3_data_loader = DataLoader(detection_class3_data, batch_size = 1, shuffle=False)"
   ]
  },
  {
   "cell_type": "code",
   "execution_count": 27,
   "id": "d9f0949f",
   "metadata": {
    "execution": {
     "iopub.execute_input": "2022-11-08T00:41:50.191589Z",
     "iopub.status.busy": "2022-11-08T00:41:50.191223Z",
     "iopub.status.idle": "2022-11-08T00:41:50.197172Z",
     "shell.execute_reply": "2022-11-08T00:41:50.196015Z"
    },
    "papermill": {
     "duration": 0.285728,
     "end_time": "2022-11-08T00:41:50.199838",
     "exception": false,
     "start_time": "2022-11-08T00:41:49.914110",
     "status": "completed"
    },
    "tags": []
   },
   "outputs": [],
   "source": [
    "df[\"EncodedPixels\"] = \"\""
   ]
  },
  {
   "cell_type": "code",
   "execution_count": 28,
   "id": "6e9d9b08",
   "metadata": {
    "execution": {
     "iopub.execute_input": "2022-11-08T00:41:50.766861Z",
     "iopub.status.busy": "2022-11-08T00:41:50.766469Z",
     "iopub.status.idle": "2022-11-08T00:41:50.781471Z",
     "shell.execute_reply": "2022-11-08T00:41:50.780584Z"
    },
    "papermill": {
     "duration": 0.294351,
     "end_time": "2022-11-08T00:41:50.783516",
     "exception": false,
     "start_time": "2022-11-08T00:41:50.489165",
     "status": "completed"
    },
    "tags": []
   },
   "outputs": [
    {
     "data": {
      "text/html": [
       "<div>\n",
       "<style scoped>\n",
       "    .dataframe tbody tr th:only-of-type {\n",
       "        vertical-align: middle;\n",
       "    }\n",
       "\n",
       "    .dataframe tbody tr th {\n",
       "        vertical-align: top;\n",
       "    }\n",
       "\n",
       "    .dataframe thead th {\n",
       "        text-align: right;\n",
       "    }\n",
       "</style>\n",
       "<table border=\"1\" class=\"dataframe\">\n",
       "  <thead>\n",
       "    <tr style=\"text-align: right;\">\n",
       "      <th></th>\n",
       "      <th>ImageId</th>\n",
       "      <th>ClassId</th>\n",
       "      <th>ClassExist</th>\n",
       "      <th>EncodedPixels</th>\n",
       "    </tr>\n",
       "  </thead>\n",
       "  <tbody>\n",
       "    <tr>\n",
       "      <th>0</th>\n",
       "      <td>6d2a4005f.jpg</td>\n",
       "      <td>1</td>\n",
       "      <td>False</td>\n",
       "      <td></td>\n",
       "    </tr>\n",
       "    <tr>\n",
       "      <th>1</th>\n",
       "      <td>6d2a4005f.jpg</td>\n",
       "      <td>2</td>\n",
       "      <td>False</td>\n",
       "      <td></td>\n",
       "    </tr>\n",
       "    <tr>\n",
       "      <th>2</th>\n",
       "      <td>6d2a4005f.jpg</td>\n",
       "      <td>3</td>\n",
       "      <td>False</td>\n",
       "      <td></td>\n",
       "    </tr>\n",
       "    <tr>\n",
       "      <th>3</th>\n",
       "      <td>6d2a4005f.jpg</td>\n",
       "      <td>4</td>\n",
       "      <td>True</td>\n",
       "      <td></td>\n",
       "    </tr>\n",
       "    <tr>\n",
       "      <th>4</th>\n",
       "      <td>a2491cf5f.jpg</td>\n",
       "      <td>1</td>\n",
       "      <td>False</td>\n",
       "      <td></td>\n",
       "    </tr>\n",
       "    <tr>\n",
       "      <th>...</th>\n",
       "      <td>...</td>\n",
       "      <td>...</td>\n",
       "      <td>...</td>\n",
       "      <td>...</td>\n",
       "    </tr>\n",
       "    <tr>\n",
       "      <th>22019</th>\n",
       "      <td>b3912fc50.jpg</td>\n",
       "      <td>4</td>\n",
       "      <td>False</td>\n",
       "      <td></td>\n",
       "    </tr>\n",
       "    <tr>\n",
       "      <th>22020</th>\n",
       "      <td>e4612d7c4.jpg</td>\n",
       "      <td>1</td>\n",
       "      <td>False</td>\n",
       "      <td></td>\n",
       "    </tr>\n",
       "    <tr>\n",
       "      <th>22021</th>\n",
       "      <td>e4612d7c4.jpg</td>\n",
       "      <td>2</td>\n",
       "      <td>False</td>\n",
       "      <td></td>\n",
       "    </tr>\n",
       "    <tr>\n",
       "      <th>22022</th>\n",
       "      <td>e4612d7c4.jpg</td>\n",
       "      <td>3</td>\n",
       "      <td>True</td>\n",
       "      <td></td>\n",
       "    </tr>\n",
       "    <tr>\n",
       "      <th>22023</th>\n",
       "      <td>e4612d7c4.jpg</td>\n",
       "      <td>4</td>\n",
       "      <td>False</td>\n",
       "      <td></td>\n",
       "    </tr>\n",
       "  </tbody>\n",
       "</table>\n",
       "<p>22024 rows × 4 columns</p>\n",
       "</div>"
      ],
      "text/plain": [
       "             ImageId  ClassId  ClassExist EncodedPixels\n",
       "0      6d2a4005f.jpg        1       False              \n",
       "1      6d2a4005f.jpg        2       False              \n",
       "2      6d2a4005f.jpg        3       False              \n",
       "3      6d2a4005f.jpg        4        True              \n",
       "4      a2491cf5f.jpg        1       False              \n",
       "...              ...      ...         ...           ...\n",
       "22019  b3912fc50.jpg        4       False              \n",
       "22020  e4612d7c4.jpg        1       False              \n",
       "22021  e4612d7c4.jpg        2       False              \n",
       "22022  e4612d7c4.jpg        3        True              \n",
       "22023  e4612d7c4.jpg        4       False              \n",
       "\n",
       "[22024 rows x 4 columns]"
      ]
     },
     "execution_count": 28,
     "metadata": {},
     "output_type": "execute_result"
    }
   ],
   "source": [
    "df"
   ]
  },
  {
   "cell_type": "code",
   "execution_count": 29,
   "id": "8bc6a2e9",
   "metadata": {
    "execution": {
     "iopub.execute_input": "2022-11-08T00:41:51.387433Z",
     "iopub.status.busy": "2022-11-08T00:41:51.387074Z",
     "iopub.status.idle": "2022-11-08T00:49:38.125845Z",
     "shell.execute_reply": "2022-11-08T00:49:38.124761Z"
    },
    "papermill": {
     "duration": 467.065677,
     "end_time": "2022-11-08T00:49:38.131047",
     "exception": false,
     "start_time": "2022-11-08T00:41:51.065370",
     "status": "completed"
    },
    "tags": []
   },
   "outputs": [
    {
     "name": "stderr",
     "output_type": "stream",
     "text": [
      "100%|██████████| 500/500 [07:46<00:00,  1.07it/s]\n"
     ]
    }
   ],
   "source": [
    "encoded_class4_pixels = detection_df(detection_class4_models, detection_class4_data_loader,0.6,2000)"
   ]
  },
  {
   "cell_type": "code",
   "execution_count": 30,
   "id": "f3033d0c",
   "metadata": {
    "execution": {
     "iopub.execute_input": "2022-11-08T00:49:38.751317Z",
     "iopub.status.busy": "2022-11-08T00:49:38.750950Z",
     "iopub.status.idle": "2022-11-08T00:49:38.859639Z",
     "shell.execute_reply": "2022-11-08T00:49:38.858383Z"
    },
    "papermill": {
     "duration": 0.419272,
     "end_time": "2022-11-08T00:49:38.862361",
     "exception": false,
     "start_time": "2022-11-08T00:49:38.443089",
     "status": "completed"
    },
    "tags": []
   },
   "outputs": [],
   "source": [
    "df.loc[(df[\"ClassId\"]==4) & (df[\"ClassExist\"]),\"EncodedPixels\"] = encoded_class4_pixels"
   ]
  },
  {
   "cell_type": "code",
   "execution_count": 31,
   "id": "28a84ed4",
   "metadata": {
    "execution": {
     "iopub.execute_input": "2022-11-08T00:49:39.523889Z",
     "iopub.status.busy": "2022-11-08T00:49:39.523506Z",
     "iopub.status.idle": "2022-11-08T00:49:39.536420Z",
     "shell.execute_reply": "2022-11-08T00:49:39.535638Z"
    },
    "papermill": {
     "duration": 0.367489,
     "end_time": "2022-11-08T00:49:39.538665",
     "exception": false,
     "start_time": "2022-11-08T00:49:39.171176",
     "status": "completed"
    },
    "tags": []
   },
   "outputs": [
    {
     "data": {
      "text/html": [
       "<div>\n",
       "<style scoped>\n",
       "    .dataframe tbody tr th:only-of-type {\n",
       "        vertical-align: middle;\n",
       "    }\n",
       "\n",
       "    .dataframe tbody tr th {\n",
       "        vertical-align: top;\n",
       "    }\n",
       "\n",
       "    .dataframe thead th {\n",
       "        text-align: right;\n",
       "    }\n",
       "</style>\n",
       "<table border=\"1\" class=\"dataframe\">\n",
       "  <thead>\n",
       "    <tr style=\"text-align: right;\">\n",
       "      <th></th>\n",
       "      <th>ImageId</th>\n",
       "      <th>ClassId</th>\n",
       "      <th>ClassExist</th>\n",
       "      <th>EncodedPixels</th>\n",
       "    </tr>\n",
       "  </thead>\n",
       "  <tbody>\n",
       "    <tr>\n",
       "      <th>0</th>\n",
       "      <td>6d2a4005f.jpg</td>\n",
       "      <td>1</td>\n",
       "      <td>False</td>\n",
       "      <td></td>\n",
       "    </tr>\n",
       "    <tr>\n",
       "      <th>1</th>\n",
       "      <td>6d2a4005f.jpg</td>\n",
       "      <td>2</td>\n",
       "      <td>False</td>\n",
       "      <td></td>\n",
       "    </tr>\n",
       "    <tr>\n",
       "      <th>2</th>\n",
       "      <td>6d2a4005f.jpg</td>\n",
       "      <td>3</td>\n",
       "      <td>False</td>\n",
       "      <td></td>\n",
       "    </tr>\n",
       "    <tr>\n",
       "      <th>3</th>\n",
       "      <td>6d2a4005f.jpg</td>\n",
       "      <td>4</td>\n",
       "      <td>True</td>\n",
       "      <td>122633 9 122887 15 123142 18 123397 20 123653 ...</td>\n",
       "    </tr>\n",
       "    <tr>\n",
       "      <th>4</th>\n",
       "      <td>a2491cf5f.jpg</td>\n",
       "      <td>1</td>\n",
       "      <td>False</td>\n",
       "      <td></td>\n",
       "    </tr>\n",
       "    <tr>\n",
       "      <th>...</th>\n",
       "      <td>...</td>\n",
       "      <td>...</td>\n",
       "      <td>...</td>\n",
       "      <td>...</td>\n",
       "    </tr>\n",
       "    <tr>\n",
       "      <th>22019</th>\n",
       "      <td>b3912fc50.jpg</td>\n",
       "      <td>4</td>\n",
       "      <td>False</td>\n",
       "      <td></td>\n",
       "    </tr>\n",
       "    <tr>\n",
       "      <th>22020</th>\n",
       "      <td>e4612d7c4.jpg</td>\n",
       "      <td>1</td>\n",
       "      <td>False</td>\n",
       "      <td></td>\n",
       "    </tr>\n",
       "    <tr>\n",
       "      <th>22021</th>\n",
       "      <td>e4612d7c4.jpg</td>\n",
       "      <td>2</td>\n",
       "      <td>False</td>\n",
       "      <td></td>\n",
       "    </tr>\n",
       "    <tr>\n",
       "      <th>22022</th>\n",
       "      <td>e4612d7c4.jpg</td>\n",
       "      <td>3</td>\n",
       "      <td>True</td>\n",
       "      <td></td>\n",
       "    </tr>\n",
       "    <tr>\n",
       "      <th>22023</th>\n",
       "      <td>e4612d7c4.jpg</td>\n",
       "      <td>4</td>\n",
       "      <td>False</td>\n",
       "      <td></td>\n",
       "    </tr>\n",
       "  </tbody>\n",
       "</table>\n",
       "<p>22024 rows × 4 columns</p>\n",
       "</div>"
      ],
      "text/plain": [
       "             ImageId  ClassId  ClassExist  \\\n",
       "0      6d2a4005f.jpg        1       False   \n",
       "1      6d2a4005f.jpg        2       False   \n",
       "2      6d2a4005f.jpg        3       False   \n",
       "3      6d2a4005f.jpg        4        True   \n",
       "4      a2491cf5f.jpg        1       False   \n",
       "...              ...      ...         ...   \n",
       "22019  b3912fc50.jpg        4       False   \n",
       "22020  e4612d7c4.jpg        1       False   \n",
       "22021  e4612d7c4.jpg        2       False   \n",
       "22022  e4612d7c4.jpg        3        True   \n",
       "22023  e4612d7c4.jpg        4       False   \n",
       "\n",
       "                                           EncodedPixels  \n",
       "0                                                         \n",
       "1                                                         \n",
       "2                                                         \n",
       "3      122633 9 122887 15 123142 18 123397 20 123653 ...  \n",
       "4                                                         \n",
       "...                                                  ...  \n",
       "22019                                                     \n",
       "22020                                                     \n",
       "22021                                                     \n",
       "22022                                                     \n",
       "22023                                                     \n",
       "\n",
       "[22024 rows x 4 columns]"
      ]
     },
     "execution_count": 31,
     "metadata": {},
     "output_type": "execute_result"
    }
   ],
   "source": [
    "df"
   ]
  },
  {
   "cell_type": "code",
   "execution_count": 32,
   "id": "529be662",
   "metadata": {
    "execution": {
     "iopub.execute_input": "2022-11-08T00:49:40.152214Z",
     "iopub.status.busy": "2022-11-08T00:49:40.151494Z",
     "iopub.status.idle": "2022-11-08T01:23:09.535963Z",
     "shell.execute_reply": "2022-11-08T01:23:09.535004Z"
    },
    "papermill": {
     "duration": 2009.700051,
     "end_time": "2022-11-08T01:23:09.539371",
     "exception": false,
     "start_time": "2022-11-08T00:49:39.839320",
     "status": "completed"
    },
    "tags": []
   },
   "outputs": [
    {
     "name": "stderr",
     "output_type": "stream",
     "text": [
      "100%|██████████| 3046/3046 [33:29<00:00,  1.52it/s]\n"
     ]
    }
   ],
   "source": [
    "encoded_class3_pixels = detection_df(detection_class3_models, detection_class3_data_loader,0.6,1500)"
   ]
  },
  {
   "cell_type": "code",
   "execution_count": 33,
   "id": "8dc15030",
   "metadata": {
    "execution": {
     "iopub.execute_input": "2022-11-08T01:23:10.515668Z",
     "iopub.status.busy": "2022-11-08T01:23:10.515287Z",
     "iopub.status.idle": "2022-11-08T01:23:11.010252Z",
     "shell.execute_reply": "2022-11-08T01:23:11.009249Z"
    },
    "papermill": {
     "duration": 0.953291,
     "end_time": "2022-11-08T01:23:11.012767",
     "exception": false,
     "start_time": "2022-11-08T01:23:10.059476",
     "status": "completed"
    },
    "tags": []
   },
   "outputs": [],
   "source": [
    "df.loc[(df[\"ClassId\"]==3) & (df[\"ClassExist\"]),\"EncodedPixels\"] = encoded_class3_pixels"
   ]
  },
  {
   "cell_type": "code",
   "execution_count": 34,
   "id": "de31e720",
   "metadata": {
    "execution": {
     "iopub.execute_input": "2022-11-08T01:23:11.930787Z",
     "iopub.status.busy": "2022-11-08T01:23:11.930406Z",
     "iopub.status.idle": "2022-11-08T01:23:11.946393Z",
     "shell.execute_reply": "2022-11-08T01:23:11.945547Z"
    },
    "papermill": {
     "duration": 0.474436,
     "end_time": "2022-11-08T01:23:11.948322",
     "exception": false,
     "start_time": "2022-11-08T01:23:11.473886",
     "status": "completed"
    },
    "tags": []
   },
   "outputs": [
    {
     "data": {
      "text/html": [
       "<div>\n",
       "<style scoped>\n",
       "    .dataframe tbody tr th:only-of-type {\n",
       "        vertical-align: middle;\n",
       "    }\n",
       "\n",
       "    .dataframe tbody tr th {\n",
       "        vertical-align: top;\n",
       "    }\n",
       "\n",
       "    .dataframe thead th {\n",
       "        text-align: right;\n",
       "    }\n",
       "</style>\n",
       "<table border=\"1\" class=\"dataframe\">\n",
       "  <thead>\n",
       "    <tr style=\"text-align: right;\">\n",
       "      <th></th>\n",
       "      <th>ImageId</th>\n",
       "      <th>ClassId</th>\n",
       "      <th>ClassExist</th>\n",
       "      <th>EncodedPixels</th>\n",
       "    </tr>\n",
       "  </thead>\n",
       "  <tbody>\n",
       "    <tr>\n",
       "      <th>0</th>\n",
       "      <td>6d2a4005f.jpg</td>\n",
       "      <td>1</td>\n",
       "      <td>False</td>\n",
       "      <td></td>\n",
       "    </tr>\n",
       "    <tr>\n",
       "      <th>1</th>\n",
       "      <td>6d2a4005f.jpg</td>\n",
       "      <td>2</td>\n",
       "      <td>False</td>\n",
       "      <td></td>\n",
       "    </tr>\n",
       "    <tr>\n",
       "      <th>2</th>\n",
       "      <td>6d2a4005f.jpg</td>\n",
       "      <td>3</td>\n",
       "      <td>False</td>\n",
       "      <td></td>\n",
       "    </tr>\n",
       "    <tr>\n",
       "      <th>3</th>\n",
       "      <td>6d2a4005f.jpg</td>\n",
       "      <td>4</td>\n",
       "      <td>True</td>\n",
       "      <td>122633 9 122887 15 123142 18 123397 20 123653 ...</td>\n",
       "    </tr>\n",
       "    <tr>\n",
       "      <th>4</th>\n",
       "      <td>a2491cf5f.jpg</td>\n",
       "      <td>1</td>\n",
       "      <td>False</td>\n",
       "      <td></td>\n",
       "    </tr>\n",
       "    <tr>\n",
       "      <th>...</th>\n",
       "      <td>...</td>\n",
       "      <td>...</td>\n",
       "      <td>...</td>\n",
       "      <td>...</td>\n",
       "    </tr>\n",
       "    <tr>\n",
       "      <th>22019</th>\n",
       "      <td>b3912fc50.jpg</td>\n",
       "      <td>4</td>\n",
       "      <td>False</td>\n",
       "      <td></td>\n",
       "    </tr>\n",
       "    <tr>\n",
       "      <th>22020</th>\n",
       "      <td>e4612d7c4.jpg</td>\n",
       "      <td>1</td>\n",
       "      <td>False</td>\n",
       "      <td></td>\n",
       "    </tr>\n",
       "    <tr>\n",
       "      <th>22021</th>\n",
       "      <td>e4612d7c4.jpg</td>\n",
       "      <td>2</td>\n",
       "      <td>False</td>\n",
       "      <td></td>\n",
       "    </tr>\n",
       "    <tr>\n",
       "      <th>22022</th>\n",
       "      <td>e4612d7c4.jpg</td>\n",
       "      <td>3</td>\n",
       "      <td>True</td>\n",
       "      <td>291588 7 291735 87 291824 2 291831 5 291843 15...</td>\n",
       "    </tr>\n",
       "    <tr>\n",
       "      <th>22023</th>\n",
       "      <td>e4612d7c4.jpg</td>\n",
       "      <td>4</td>\n",
       "      <td>False</td>\n",
       "      <td></td>\n",
       "    </tr>\n",
       "  </tbody>\n",
       "</table>\n",
       "<p>22024 rows × 4 columns</p>\n",
       "</div>"
      ],
      "text/plain": [
       "             ImageId  ClassId  ClassExist  \\\n",
       "0      6d2a4005f.jpg        1       False   \n",
       "1      6d2a4005f.jpg        2       False   \n",
       "2      6d2a4005f.jpg        3       False   \n",
       "3      6d2a4005f.jpg        4        True   \n",
       "4      a2491cf5f.jpg        1       False   \n",
       "...              ...      ...         ...   \n",
       "22019  b3912fc50.jpg        4       False   \n",
       "22020  e4612d7c4.jpg        1       False   \n",
       "22021  e4612d7c4.jpg        2       False   \n",
       "22022  e4612d7c4.jpg        3        True   \n",
       "22023  e4612d7c4.jpg        4       False   \n",
       "\n",
       "                                           EncodedPixels  \n",
       "0                                                         \n",
       "1                                                         \n",
       "2                                                         \n",
       "3      122633 9 122887 15 123142 18 123397 20 123653 ...  \n",
       "4                                                         \n",
       "...                                                  ...  \n",
       "22019                                                     \n",
       "22020                                                     \n",
       "22021                                                     \n",
       "22022  291588 7 291735 87 291824 2 291831 5 291843 15...  \n",
       "22023                                                     \n",
       "\n",
       "[22024 rows x 4 columns]"
      ]
     },
     "execution_count": 34,
     "metadata": {},
     "output_type": "execute_result"
    }
   ],
   "source": [
    "df"
   ]
  },
  {
   "cell_type": "code",
   "execution_count": 35,
   "id": "d25df175",
   "metadata": {
    "execution": {
     "iopub.execute_input": "2022-11-08T01:23:12.895917Z",
     "iopub.status.busy": "2022-11-08T01:23:12.895545Z",
     "iopub.status.idle": "2022-11-08T01:23:12.933351Z",
     "shell.execute_reply": "2022-11-08T01:23:12.932354Z"
    },
    "papermill": {
     "duration": 0.489083,
     "end_time": "2022-11-08T01:23:12.935538",
     "exception": false,
     "start_time": "2022-11-08T01:23:12.446455",
     "status": "completed"
    },
    "tags": []
   },
   "outputs": [
    {
     "data": {
      "text/html": [
       "<div>\n",
       "<style scoped>\n",
       "    .dataframe tbody tr th:only-of-type {\n",
       "        vertical-align: middle;\n",
       "    }\n",
       "\n",
       "    .dataframe tbody tr th {\n",
       "        vertical-align: top;\n",
       "    }\n",
       "\n",
       "    .dataframe thead th {\n",
       "        text-align: right;\n",
       "    }\n",
       "</style>\n",
       "<table border=\"1\" class=\"dataframe\">\n",
       "  <thead>\n",
       "    <tr style=\"text-align: right;\">\n",
       "      <th></th>\n",
       "      <th>ImageId_ClassId</th>\n",
       "      <th>EncodedPixels</th>\n",
       "    </tr>\n",
       "  </thead>\n",
       "  <tbody>\n",
       "    <tr>\n",
       "      <th>0</th>\n",
       "      <td>6d2a4005f.jpg_1</td>\n",
       "      <td></td>\n",
       "    </tr>\n",
       "    <tr>\n",
       "      <th>1</th>\n",
       "      <td>6d2a4005f.jpg_2</td>\n",
       "      <td></td>\n",
       "    </tr>\n",
       "    <tr>\n",
       "      <th>2</th>\n",
       "      <td>6d2a4005f.jpg_3</td>\n",
       "      <td></td>\n",
       "    </tr>\n",
       "    <tr>\n",
       "      <th>3</th>\n",
       "      <td>6d2a4005f.jpg_4</td>\n",
       "      <td>122633 9 122887 15 123142 18 123397 20 123653 ...</td>\n",
       "    </tr>\n",
       "    <tr>\n",
       "      <th>4</th>\n",
       "      <td>a2491cf5f.jpg_1</td>\n",
       "      <td></td>\n",
       "    </tr>\n",
       "    <tr>\n",
       "      <th>...</th>\n",
       "      <td>...</td>\n",
       "      <td>...</td>\n",
       "    </tr>\n",
       "    <tr>\n",
       "      <th>22019</th>\n",
       "      <td>b3912fc50.jpg_4</td>\n",
       "      <td></td>\n",
       "    </tr>\n",
       "    <tr>\n",
       "      <th>22020</th>\n",
       "      <td>e4612d7c4.jpg_1</td>\n",
       "      <td></td>\n",
       "    </tr>\n",
       "    <tr>\n",
       "      <th>22021</th>\n",
       "      <td>e4612d7c4.jpg_2</td>\n",
       "      <td></td>\n",
       "    </tr>\n",
       "    <tr>\n",
       "      <th>22022</th>\n",
       "      <td>e4612d7c4.jpg_3</td>\n",
       "      <td>291588 7 291735 87 291824 2 291831 5 291843 15...</td>\n",
       "    </tr>\n",
       "    <tr>\n",
       "      <th>22023</th>\n",
       "      <td>e4612d7c4.jpg_4</td>\n",
       "      <td></td>\n",
       "    </tr>\n",
       "  </tbody>\n",
       "</table>\n",
       "<p>22024 rows × 2 columns</p>\n",
       "</div>"
      ],
      "text/plain": [
       "       ImageId_ClassId                                      EncodedPixels\n",
       "0      6d2a4005f.jpg_1                                                   \n",
       "1      6d2a4005f.jpg_2                                                   \n",
       "2      6d2a4005f.jpg_3                                                   \n",
       "3      6d2a4005f.jpg_4  122633 9 122887 15 123142 18 123397 20 123653 ...\n",
       "4      a2491cf5f.jpg_1                                                   \n",
       "...                ...                                                ...\n",
       "22019  b3912fc50.jpg_4                                                   \n",
       "22020  e4612d7c4.jpg_1                                                   \n",
       "22021  e4612d7c4.jpg_2                                                   \n",
       "22022  e4612d7c4.jpg_3  291588 7 291735 87 291824 2 291831 5 291843 15...\n",
       "22023  e4612d7c4.jpg_4                                                   \n",
       "\n",
       "[22024 rows x 2 columns]"
      ]
     },
     "execution_count": 35,
     "metadata": {},
     "output_type": "execute_result"
    }
   ],
   "source": [
    "df[\"ImageId\"] = df[\"ImageId\"] + \"_\" + df[\"ClassId\"].astype('str')\n",
    "df.loc[df[\"EncodedPixels\"]==\"\",\"EncodedPixels\"] = \"\"\n",
    "df = df.rename({'ImageId': 'ImageId_ClassId'}, axis=1)\n",
    "df = df.drop([\"ClassId\", \"ClassExist\"], axis=1)\n",
    "df"
   ]
  },
  {
   "cell_type": "code",
   "execution_count": 36,
   "id": "61dbd625",
   "metadata": {
    "execution": {
     "iopub.execute_input": "2022-11-08T01:23:13.917131Z",
     "iopub.status.busy": "2022-11-08T01:23:13.916757Z",
     "iopub.status.idle": "2022-11-08T01:23:14.032011Z",
     "shell.execute_reply": "2022-11-08T01:23:14.030950Z"
    },
    "papermill": {
     "duration": 0.592229,
     "end_time": "2022-11-08T01:23:14.034406",
     "exception": false,
     "start_time": "2022-11-08T01:23:13.442177",
     "status": "completed"
    },
    "tags": []
   },
   "outputs": [],
   "source": [
    "df.to_csv(\"submission.csv\", index = False)"
   ]
  },
  {
   "cell_type": "code",
   "execution_count": null,
   "id": "8276140a",
   "metadata": {
    "papermill": {
     "duration": 0.677625,
     "end_time": "2022-11-08T01:23:15.170428",
     "exception": false,
     "start_time": "2022-11-08T01:23:14.492803",
     "status": "completed"
    },
    "tags": []
   },
   "outputs": [],
   "source": []
  }
 ],
 "metadata": {
  "kernelspec": {
   "display_name": "Python 3 (ipykernel)",
   "language": "python",
   "name": "python3"
  },
  "language_info": {
   "codemirror_mode": {
    "name": "ipython",
    "version": 3
   },
   "file_extension": ".py",
   "mimetype": "text/x-python",
   "name": "python",
   "nbconvert_exporter": "python",
   "pygments_lexer": "ipython3",
   "version": "3.7.13"
  },
  "papermill": {
   "default_parameters": {},
   "duration": 3191.970362,
   "end_time": "2022-11-08T01:23:17.321369",
   "environment_variables": {},
   "exception": null,
   "input_path": "__notebook__.ipynb",
   "output_path": "__notebook__.ipynb",
   "parameters": {},
   "start_time": "2022-11-08T00:30:05.351007",
   "version": "2.3.4"
  }
 },
 "nbformat": 4,
 "nbformat_minor": 5
}
