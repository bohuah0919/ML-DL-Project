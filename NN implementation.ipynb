{
 "cells": [
  {
   "cell_type": "code",
   "execution_count": 1,
   "metadata": {},
   "outputs": [],
   "source": [
    "import numpy as np\n",
    "import pandas as pd\n",
    "import matplotlib.pyplot as plt\n",
    "from scipy.io import loadmat"
   ]
  },
  {
   "cell_type": "code",
   "execution_count": 2,
   "metadata": {},
   "outputs": [
    {
     "data": {
      "text/plain": [
       "{'__header__': b'MATLAB 5.0 MAT-file, Platform: GLNXA64, Created on: Sun Oct 16 13:09:09 2011',\n",
       " '__version__': '1.0',\n",
       " '__globals__': [],\n",
       " 'X': array([[0., 0., 0., ..., 0., 0., 0.],\n",
       "        [0., 0., 0., ..., 0., 0., 0.],\n",
       "        [0., 0., 0., ..., 0., 0., 0.],\n",
       "        ...,\n",
       "        [0., 0., 0., ..., 0., 0., 0.],\n",
       "        [0., 0., 0., ..., 0., 0., 0.],\n",
       "        [0., 0., 0., ..., 0., 0., 0.]]),\n",
       " 'y': array([[10],\n",
       "        [10],\n",
       "        [10],\n",
       "        ...,\n",
       "        [ 9],\n",
       "        [ 9],\n",
       "        [ 9]], dtype=uint8)}"
      ]
     },
     "execution_count": 2,
     "metadata": {},
     "output_type": "execute_result"
    }
   ],
   "source": [
    "data = loadmat(\"ex3data1.mat\")\n",
    "data"
   ]
  },
  {
   "cell_type": "code",
   "execution_count": 3,
   "metadata": {},
   "outputs": [
    {
     "data": {
      "text/plain": [
       "((5000, 400), (5000, 1))"
      ]
     },
     "execution_count": 3,
     "metadata": {},
     "output_type": "execute_result"
    }
   ],
   "source": [
    "X = data[\"X\"]\n",
    "y = data[\"y\"]\n",
    "X.shape, y.shape"
   ]
  },
  {
   "cell_type": "code",
   "execution_count": 4,
   "metadata": {},
   "outputs": [
    {
     "name": "stderr",
     "output_type": "stream",
     "text": [
      "D:\\Users\\Administrator\\Anaconda3\\lib\\site-packages\\sklearn\\preprocessing\\_encoders.py:415: FutureWarning: The handling of integer data will change in version 0.22. Currently, the categories are determined based on the range [0, max(values)], while in the future they will be determined based on the unique values.\n",
      "If you want the future behaviour and silence this warning, you can specify \"categories='auto'\".\n",
      "In case you used a LabelEncoder before this OneHotEncoder to convert the categories to integers, then you can now use the OneHotEncoder directly.\n",
      "  warnings.warn(msg, FutureWarning)\n"
     ]
    },
    {
     "data": {
      "text/plain": [
       "array([[0., 0., 0., ..., 0., 0., 1.],\n",
       "       [0., 0., 0., ..., 0., 0., 1.],\n",
       "       [0., 0., 0., ..., 0., 0., 1.],\n",
       "       ...,\n",
       "       [0., 0., 0., ..., 0., 1., 0.],\n",
       "       [0., 0., 0., ..., 0., 1., 0.],\n",
       "       [0., 0., 0., ..., 0., 1., 0.]])"
      ]
     },
     "execution_count": 4,
     "metadata": {},
     "output_type": "execute_result"
    }
   ],
   "source": [
    "from sklearn.preprocessing import OneHotEncoder\n",
    "ohe = OneHotEncoder(sparse = False)\n",
    "y = ohe.fit_transform(y)\n",
    "y"
   ]
  },
  {
   "cell_type": "code",
   "execution_count": 5,
   "metadata": {},
   "outputs": [],
   "source": [
    "def sigmoid(z):\n",
    "    return 1/(1+np.exp(-z))"
   ]
  },
  {
   "cell_type": "code",
   "execution_count": 6,
   "metadata": {},
   "outputs": [],
   "source": [
    "def forward_propagate(X, theta1, theta2):\n",
    "    a1 = np.column_stack((np.ones(X.shape[0]),X))\n",
    "    z2 = a1.dot(theta1.T)\n",
    "    a2 = np.column_stack((np.ones(sigmoid(z2).shape[0]),sigmoid(z2)))\n",
    "    z3 = a2.dot(theta2.T)\n",
    "    h = sigmoid(z3)\n",
    "    return a1,z2,a2,z3,h"
   ]
  },
  {
   "cell_type": "code",
   "execution_count": 7,
   "metadata": {},
   "outputs": [],
   "source": [
    "def cost_function(X, y, theta1, theta2, learning_rate,m):\n",
    "    a1,z2,a2,z3,h = forward_propagate(X, theta1, theta2)\n",
    "    s = 0\n",
    "    for i in range(h.shape[0]):\n",
    "        s += y[i].reshape(1,y[i].shape[0]).dot(np.log(h[i]).T)+(1-y[i].reshape(1,y[i].shape[0])).dot(np.log(1-h[i]).T)\n",
    "    return (-s/h.shape[0])[0,0] + (learning_rate / (2 * m)) * (np.sum(np.power(theta1[:,1:], 2)) + np.sum(np.power(theta2[:,1:], 2)))"
   ]
  },
  {
   "cell_type": "code",
   "execution_count": 8,
   "metadata": {},
   "outputs": [],
   "source": [
    "def back_propagation(X, y, theta1, theta2, learning_rate):\n",
    "    d_sum1 = np.zeros(theta1.shape)\n",
    "    d_sum2 = np.zeros(theta2.shape)\n",
    "    m = X.shape[0]\n",
    "    for i in range(m):\n",
    "        a1 = X[i].reshape(1,X[i].shape[0])                       #(1,401)\n",
    "        a1,z2,a2,z3,h = forward_propagate(a1,theta1,theta2)\n",
    "        d3 = h - y[i].reshape(1,y[i].shape[0])                   #(1,10)\n",
    "        d2 = np.multiply(d3.dot(theta2),(np.multiply(a2,(1-a2))))#(1,26)\n",
    "        d_sum1 = d_sum1 + d2[:,1:].T.dot(a1)                     #(25,401)\n",
    "        d_sum2 = d_sum2 + d3.T.dot(a2)                           #(10,26)\n",
    "    D1 = d_sum1/m\n",
    "    D2 = d_sum2/m\n",
    "    D1[:,1:] = D1[:,1:] + (theta1[:,1:] * learning_rate)/m\n",
    "    D2[:,1:] = D2[:,1:] + (theta2[:,1:] * learning_rate)/m\n",
    "    return D1, D2    \n",
    "    "
   ]
  },
  {
   "cell_type": "code",
   "execution_count": 9,
   "metadata": {},
   "outputs": [
    {
     "name": "stdout",
     "output_type": "stream",
     "text": [
      "error is: 1.0177163340460553e-06%\n",
      "error is: 1.0136762791261883e-05%\n",
      "error is: -2.998043541685539e-06%\n",
      "error is: 1.2222254063315008e-07%\n",
      "error is: -5.456791223445047e-06%\n",
      "error is: -1.075368426804153e-05%\n",
      "error is: 6.197697437434682e-06%\n",
      "error is: 1.9044138416867502e-06%\n",
      "error is: -1.094847672002947e-05%\n",
      "error is: -1.4520926509747314e-05%\n",
      "error is: -3.1474121804106733e-07%\n",
      "error is: 3.355470779848903e-05%\n",
      "error is: 1.3491777117359438e-05%\n",
      "error is: 7.02945984840377e-06%\n",
      "error is: -5.767950382452161e-06%\n",
      "error is: -5.716542342516964e-07%\n",
      "error is: 1.437112410681711e-05%\n",
      "error is: 5.543648086529945e-05%\n",
      "error is: -1.1018948052713028e-07%\n",
      "error is: -2.127506717488748e-05%\n",
      "error is: 5.612255760710197e-06%\n",
      "error is: 1.409430708958806e-06%\n",
      "error is: 2.9035235709592495e-06%\n",
      "error is: 3.364901015149497e-06%\n",
      "error is: -0.0003385035466635025%\n",
      "error is: -7.994311531976943e-06%\n",
      "error is: -8.807730886032986e-08%\n",
      "error is: -1.3519564626206634e-06%\n",
      "error is: 5.686917925996858e-08%\n",
      "error is: -2.4365620426693803e-07%\n",
      "error is: 3.862786375181523e-06%\n",
      "error is: 1.1096611712156489e-06%\n",
      "error is: 4.211903766090216e-05%\n",
      "error is: -9.052696531554632e-07%\n",
      "error is: -7.192911635790845e-07%\n",
      "error is: 5.7869483908843244e-06%\n",
      "error is: 5.42133327329405e-06%\n",
      "error is: -6.838188561364091e-06%\n",
      "error is: 9.117900630497648e-07%\n",
      "error is: 4.337717606036013e-08%\n",
      "error is: 2.2333585524536955e-06%\n",
      "error is: 1.1801346636976902e-06%\n",
      "error is: 1.4337118126681727e-05%\n",
      "error is: 1.1952963339594127e-05%\n",
      "error is: 1.1342277360924968e-07%\n",
      "error is: 5.019470556908041e-06%\n",
      "error is: 3.1768706146247404e-05%\n",
      "error is: -1.2976148204938632e-06%\n",
      "error is: -6.296850164836592e-07%\n",
      "error is: -1.1442766074715422e-07%\n"
     ]
    }
   ],
   "source": [
    "layer_size = 25\n",
    "eps = 0.12\n",
    "para = 1\n",
    "learning_rate = 2\n",
    "theta1 = np.matrix(np.random.rand(layer_size,X.shape[1]+1)*2*eps-eps)\n",
    "theta2 = np.matrix(np.random.rand(y.shape[1],layer_size+1)*2*eps-eps)\n",
    "theta_error = 0.0001\n",
    "for i in range(20):\n",
    "    D1,D2 = back_propagation(X, y, theta1, theta2, para)\n",
    "    theta1 = theta1 - learning_rate*D1\n",
    "    theta2 = theta2 - learning_rate*D2\n",
    "    \n",
    "D1,D2 = back_propagation(X, y, theta1, theta2, para)\n",
    "\n",
    "for i in range(5):\n",
    "    for j in range(5):\n",
    "        theta1_plus = theta1.copy()\n",
    "        theta1_minus = theta1.copy()\n",
    "        theta1_plus[i,j] = theta1_plus[i,j] + theta_error\n",
    "        theta1_minus[i,j] = theta1_minus[i,j] - theta_error\n",
    "        appr_deri1 = (cost_function(X, y, theta1_plus, theta2, para, X.shape[0])\n",
    "                      - cost_function(X, y, theta1_minus, theta2, para, X.shape[0]))/(2*theta_error)\n",
    "        deri_error = (D1[i,j] - appr_deri1)/D1[i,j] \n",
    "        print(f\"error is: {deri_error*100}%\")\n",
    "        \n",
    "for i in range(5):\n",
    "    for j in range(5):\n",
    "        theta2_plus = theta2.copy()\n",
    "        theta2_minus = theta2.copy()\n",
    "        theta2_plus[i,j] += theta_error\n",
    "        theta2_minus[i,j] -= theta_error\n",
    "        appr_deri2 = (cost_function(X, y, theta1, theta2_plus, para, X.shape[0])\n",
    "                      - cost_function(X, y, theta1, theta2_minus, para, X.shape[0]))/(2*theta_error)\n",
    "        deri_error = (D2[i,j] - appr_deri2)/D2[i,j]\n",
    "        print(f\"error is: {deri_error*100}%\")"
   ]
  },
  {
   "cell_type": "code",
   "execution_count": 10,
   "metadata": {},
   "outputs": [
    {
     "data": {
      "text/plain": [
       "0.5630117497848104"
      ]
     },
     "execution_count": 10,
     "metadata": {},
     "output_type": "execute_result"
    }
   ],
   "source": [
    "layer_size = 25\n",
    "eps = 0.12\n",
    "para = 1\n",
    "learning_rate = 2\n",
    "theta1 = np.matrix(np.random.rand(layer_size,X.shape[1]+1)*2*eps-eps)\n",
    "theta2 = np.matrix(np.random.rand(y.shape[1],layer_size+1)*2*eps-eps)\n",
    "\n",
    "for i in range(300):\n",
    "    D1,D2 = back_propagation(X, y, theta1, theta2, para)\n",
    "    theta1 = theta1 - learning_rate*D1\n",
    "    theta2 = theta2 - learning_rate*D2\n",
    "    \n",
    "cost_function(X, y, theta1, theta2, para, X.shape[0])"
   ]
  },
  {
   "cell_type": "code",
   "execution_count": 11,
   "metadata": {},
   "outputs": [
    {
     "data": {
      "text/plain": [
       "matrix([[-0.09054739, -0.03195653,  0.03943493, ..., -0.08311036,\n",
       "          0.02393197, -0.10468891],\n",
       "        [-0.2736935 , -0.00358228, -0.0309187 , ..., -0.00529932,\n",
       "          0.01569476, -0.07426492],\n",
       "        [-0.05869237,  0.0947295 , -0.07746876, ..., -0.03046711,\n",
       "          0.02265709,  0.0944654 ],\n",
       "        ...,\n",
       "        [-0.35954524, -0.07991107, -0.04091162, ...,  0.10465612,\n",
       "         -0.04673379,  0.01391159],\n",
       "        [ 0.22203842,  0.06049505, -0.04698853, ...,  0.08764937,\n",
       "         -0.07765452,  0.04210829],\n",
       "        [-0.2809648 ,  0.03609435, -0.09571498, ..., -0.00443356,\n",
       "          0.03595538, -0.0254052 ]])"
      ]
     },
     "execution_count": 11,
     "metadata": {},
     "output_type": "execute_result"
    }
   ],
   "source": [
    "theta1"
   ]
  },
  {
   "cell_type": "code",
   "execution_count": 12,
   "metadata": {},
   "outputs": [
    {
     "data": {
      "text/plain": [
       "matrix([[-1.66242951e+00,  9.34747653e-02, -1.40635723e-02,\n",
       "          5.56865318e-01, -1.94128280e+00, -2.27514315e+00,\n",
       "          8.11646465e-02, -1.35006961e+00,  1.28487226e+00,\n",
       "         -3.88936702e-01, -2.47327684e+00, -2.73261451e+00,\n",
       "          3.86950102e-01,  7.51057961e-01, -3.92871930e-01,\n",
       "          1.43691816e+00,  1.20365889e+00, -1.80786378e-01,\n",
       "         -4.19638716e-01,  3.98682102e-02, -9.59488505e-01,\n",
       "          2.88051914e+00, -3.63910253e-01, -4.56569564e-01,\n",
       "          1.20125705e+00,  2.54414324e-02],\n",
       "        [-1.04551155e+00, -3.43264044e-02, -1.68595077e-01,\n",
       "          3.64875880e-01, -1.99373562e+00,  5.50536254e-01,\n",
       "         -3.55093260e+00, -2.02995302e+00,  7.72624470e-01,\n",
       "         -3.00170333e-01,  1.09235431e+00,  2.68442822e-01,\n",
       "          1.08890994e+00,  2.76884443e+00, -6.98264858e-01,\n",
       "         -2.95142118e-01, -1.87024867e+00, -2.68157113e-02,\n",
       "         -1.59618836e+00, -2.07644480e-01, -7.66332271e-01,\n",
       "         -1.34991517e+00, -1.11305784e+00, -1.56516648e+00,\n",
       "         -1.34140367e+00, -1.02658764e-01],\n",
       "        [-1.47120290e+00, -6.65742742e-01, -3.45290934e-01,\n",
       "         -1.14996513e+00, -3.58155124e+00, -1.58363685e-01,\n",
       "          2.11878197e+00,  2.83882706e+00,  4.17548430e-01,\n",
       "         -1.14715286e+00,  3.19418296e-01, -3.39088606e+00,\n",
       "         -1.41778099e+00,  1.55648245e+00, -5.00093933e-01,\n",
       "         -7.24745027e-01, -8.68500938e-01, -6.93554045e-02,\n",
       "         -1.71869612e+00, -4.60547606e-01, -9.46485124e-01,\n",
       "         -8.62226020e-01, -1.35352477e+00, -7.13960070e-03,\n",
       "         -5.97488994e-01, -4.77616147e-01],\n",
       "        [-1.64468905e+00, -2.59358867e-01,  5.21947111e-02,\n",
       "         -7.56879205e-01, -3.29177467e-01, -3.56805648e+00,\n",
       "          1.05992183e+00, -2.49134899e+00, -2.87239406e+00,\n",
       "         -1.18194526e+00, -1.72532336e-01,  1.04787366e+00,\n",
       "          3.15765739e-01,  2.25535104e-01, -2.63084348e-01,\n",
       "         -1.70673403e-01, -3.33199269e+00,  1.44364573e+00,\n",
       "          7.90057364e-01, -1.78614299e-01,  2.04735843e+00,\n",
       "          2.45985755e-02,  1.04949982e+00,  5.36944828e-01,\n",
       "          1.03770177e-03, -1.64933555e-01],\n",
       "        [-1.80850144e+00,  2.36795697e-01,  1.12309453e-01,\n",
       "          4.65093160e-02,  1.92060881e+00, -2.35710212e+00,\n",
       "          2.40883768e+00,  1.22704499e+00,  6.97729952e-02,\n",
       "         -8.57728844e-01, -5.14304750e-01, -9.70645113e-01,\n",
       "          2.13481888e-01, -1.62559900e+00, -3.15234773e-01,\n",
       "         -9.57419328e-02, -1.01131455e+00, -2.58558604e+00,\n",
       "         -2.74800832e+00,  9.94201412e-03, -1.63068195e+00,\n",
       "         -4.84760800e-01,  2.83481643e+00, -9.42189399e-01,\n",
       "          1.52884711e+00, -4.36387751e-02],\n",
       "        [-1.26726151e+00, -3.33890886e-01, -1.42354964e-01,\n",
       "          3.30710211e-01, -1.71852007e+00,  8.16921456e-01,\n",
       "         -1.10785126e+00, -1.75876451e+00,  2.06792071e+00,\n",
       "         -9.27909526e-01, -3.99029543e+00,  2.45049524e+00,\n",
       "         -7.60984863e-01, -1.93723918e+00, -1.41593883e-01,\n",
       "         -1.77633736e-01, -1.28651793e+00, -1.66112436e+00,\n",
       "          1.10296250e+00, -1.09576117e-01,  5.68532530e-01,\n",
       "         -6.87090231e-01,  9.62370690e-01, -5.09984527e-01,\n",
       "         -3.60814667e-01, -2.75673716e-01],\n",
       "        [-1.69946099e+00,  1.63049174e-01, -1.38807152e-01,\n",
       "         -2.63829783e-01, -1.08767235e+00, -1.65177457e+00,\n",
       "         -1.77092064e+00,  1.52804463e+00, -2.11165696e+00,\n",
       "          3.84355219e+00, -7.89129329e-01, -1.93010438e+00,\n",
       "          7.57058481e-01, -2.64240823e-01,  9.16055985e-03,\n",
       "         -7.62112234e-01,  1.02715154e+00,  2.91967188e-03,\n",
       "          1.82797096e+00, -2.78873006e-01, -1.30102793e+00,\n",
       "         -3.06888320e-01, -5.76167507e-01,  3.59695773e-01,\n",
       "         -6.32448579e-01, -2.71288651e-01],\n",
       "        [-6.14455348e-01, -5.94708233e-01, -5.12897167e-01,\n",
       "         -1.20850960e+00,  2.56912465e+00,  1.24284363e+00,\n",
       "          6.63920887e-02, -3.71004650e+00,  1.09748074e+00,\n",
       "         -1.18346441e+00, -1.76764573e-01, -2.88854937e+00,\n",
       "         -9.39146807e-01, -2.44067555e+00, -9.98400807e-01,\n",
       "         -9.96788109e-01,  9.13179929e-01,  1.44349317e+00,\n",
       "         -2.30735560e+00, -5.21678285e-01, -8.87655307e-01,\n",
       "         -8.30540686e-01, -1.03121016e+00, -1.34351829e+00,\n",
       "         -7.25556402e-01, -4.74017973e-01],\n",
       "        [-1.50056159e+00, -3.17860972e-01, -4.11565620e-01,\n",
       "         -5.04835332e-01, -1.11171108e+00, -7.72061043e-01,\n",
       "          4.49451905e-01, -1.17752647e+00, -2.84596065e+00,\n",
       "         -1.53985917e+00,  5.10269078e-01, -6.69076562e-01,\n",
       "         -1.94880580e+00, -1.69923018e+00, -4.27351372e-01,\n",
       "         -6.26067933e-01,  3.71353965e+00, -1.40160990e+00,\n",
       "          1.47525026e+00, -3.37627399e-01,  2.80292934e+00,\n",
       "         -2.80879902e-01, -1.49923316e+00, -1.57023180e+00,\n",
       "         -1.64031997e-01, -1.91336298e-01],\n",
       "        [-1.35341012e+00, -6.10081663e-01, -1.55387872e-01,\n",
       "         -7.48006216e-01,  1.74505686e+00,  2.39460996e-01,\n",
       "         -2.95801503e+00,  1.77059453e+00, -2.53096083e+00,\n",
       "         -6.65185334e-01,  1.40848016e-01,  2.44023140e+00,\n",
       "         -9.92795081e-01, -9.45640120e-01,  8.28437973e-02,\n",
       "         -3.58064588e-01, -1.73255129e+00, -1.71555668e+00,\n",
       "         -1.94864367e+00, -1.79103770e-01, -2.11343985e+00,\n",
       "         -7.72529749e-01, -1.79666078e+00,  7.87594881e-01,\n",
       "         -8.11382124e-01, -1.33818371e-01]])"
      ]
     },
     "execution_count": 12,
     "metadata": {},
     "output_type": "execute_result"
    }
   ],
   "source": [
    "theta2"
   ]
  },
  {
   "cell_type": "code",
   "execution_count": 13,
   "metadata": {},
   "outputs": [
    {
     "data": {
      "text/plain": [
       "matrix([[4.04435724e-06, 3.61739922e-03, 1.87306420e-03, ...,\n",
       "         2.20745982e-03, 2.47381845e-03, 9.90061451e-01],\n",
       "        [5.48474452e-06, 4.41256732e-03, 3.34107398e-03, ...,\n",
       "         1.84200833e-03, 1.23512424e-03, 9.86776259e-01],\n",
       "        [1.22337972e-05, 8.52301991e-03, 2.66789083e-03, ...,\n",
       "         2.02524103e-02, 5.27433857e-03, 9.46140025e-01],\n",
       "        ...,\n",
       "        [2.87929033e-02, 1.11136123e-03, 2.85243927e-02, ...,\n",
       "         3.10816825e-02, 3.83505385e-01, 4.85022700e-06],\n",
       "        [1.23032568e-03, 5.19006734e-05, 2.23905104e-04, ...,\n",
       "         1.03794964e-01, 9.07435897e-01, 9.23780760e-05],\n",
       "        [9.93983939e-05, 5.01869481e-03, 2.42307826e-05, ...,\n",
       "         2.41140919e-02, 3.26037276e-01, 6.33049879e-02]])"
      ]
     },
     "execution_count": 13,
     "metadata": {},
     "output_type": "execute_result"
    }
   ],
   "source": [
    "a1,z2,a2,z3,h = forward_propagate(X,theta1,theta2)\n",
    "h"
   ]
  },
  {
   "cell_type": "code",
   "execution_count": 14,
   "metadata": {},
   "outputs": [
    {
     "data": {
      "text/plain": [
       "array([[10],\n",
       "       [10],\n",
       "       [10],\n",
       "       ...,\n",
       "       [ 9],\n",
       "       [ 9],\n",
       "       [ 9]], dtype=int64)"
      ]
     },
     "execution_count": 14,
     "metadata": {},
     "output_type": "execute_result"
    }
   ],
   "source": [
    "y_pred = np.array(np.argmax(h, axis=1) + 1)\n",
    "y_pred"
   ]
  },
  {
   "cell_type": "code",
   "execution_count": 15,
   "metadata": {},
   "outputs": [
    {
     "name": "stdout",
     "output_type": "stream",
     "text": [
      "accuracy = 94.02000000000001%\n"
     ]
    }
   ],
   "source": [
    "correct = [1 if a == b else 0 for (a, b) in zip(y_pred, data[\"y\"])]\n",
    "accuracy = (sum(map(int, correct)) / float(len(correct)))\n",
    "print ('accuracy = {0}%'.format(accuracy * 100))"
   ]
  },
  {
   "cell_type": "code",
   "execution_count": null,
   "metadata": {},
   "outputs": [],
   "source": []
  },
  {
   "cell_type": "code",
   "execution_count": null,
   "metadata": {},
   "outputs": [],
   "source": []
  }
 ],
 "metadata": {
  "kernelspec": {
   "display_name": "Python 3 (ipykernel)",
   "language": "python",
   "name": "python3"
  },
  "language_info": {
   "codemirror_mode": {
    "name": "ipython",
    "version": 3
   },
   "file_extension": ".py",
   "mimetype": "text/x-python",
   "name": "python",
   "nbconvert_exporter": "python",
   "pygments_lexer": "ipython3",
   "version": "3.7.13"
  }
 },
 "nbformat": 4,
 "nbformat_minor": 2
}
