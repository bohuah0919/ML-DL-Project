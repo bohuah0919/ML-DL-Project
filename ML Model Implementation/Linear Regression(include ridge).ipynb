{
 "cells": [
  {
   "cell_type": "code",
   "execution_count": 1,
   "metadata": {},
   "outputs": [],
   "source": [
    "import numpy as np\n",
    "class lin_reg:\n",
    "    def fit(self, X, y):\n",
    "        X_add1 = np.column_stack((np.ones(X.shape[0]),X))\n",
    "        self.theta = np.linalg.pinv(X_add1.T.dot(X_add1)).dot(X_add1.T).dot(y)\n",
    "        self.intercept = self.theta[0]\n",
    "        self.coef = self.theta[1:]\n",
    "        return self\n",
    "    def predict(self, X):\n",
    "        new_matrix = np.repeat(self.coef, X.shape[0], axis = 1).T.dot(X.T) + self.intercept\n",
    "        return new_matrix[0].T.reshape((X.shape[0],1))\n",
    "    "
   ]
  },
  {
   "cell_type": "code",
   "execution_count": 2,
   "metadata": {},
   "outputs": [],
   "source": [
    "X1 = 2 * np.random.rand(100, 1)\n",
    "X2 = 3 * np.random.rand(100, 1)\n",
    "X3 = 3 * np.random.rand(100, 1)\n",
    "\n",
    "X = np.column_stack((X2,X3))\n",
    "X = np.column_stack((X1,X))\n",
    "y = 4 + 3 * X1 + 2*X2+ 0.256*X3 + np.random.randn(100, 1)"
   ]
  },
  {
   "cell_type": "code",
   "execution_count": 3,
   "metadata": {},
   "outputs": [
    {
     "data": {
      "text/plain": [
       "(array([4.39865867]), array([[2.79192448, 2.01753934, 0.21641422]]))"
      ]
     },
     "execution_count": 3,
     "metadata": {},
     "output_type": "execute_result"
    }
   ],
   "source": [
    "from sklearn.linear_model import LinearRegression\n",
    "lr = LinearRegression()\n",
    "lr.fit(X,y)\n",
    "lr.intercept_, lr.coef_"
   ]
  },
  {
   "cell_type": "code",
   "execution_count": 4,
   "metadata": {},
   "outputs": [
    {
     "data": {
      "text/plain": [
       "array([[14.4181379 ],\n",
       "       [11.29049708],\n",
       "       [ 8.73765482],\n",
       "       [ 6.99559925],\n",
       "       [12.69255075]])"
      ]
     },
     "execution_count": 4,
     "metadata": {},
     "output_type": "execute_result"
    }
   ],
   "source": [
    "lr.predict(X)[:5]"
   ]
  },
  {
   "cell_type": "code",
   "execution_count": 5,
   "metadata": {},
   "outputs": [
    {
     "data": {
      "text/plain": [
       "<__main__.lin_reg at 0x8d43898>"
      ]
     },
     "execution_count": 5,
     "metadata": {},
     "output_type": "execute_result"
    }
   ],
   "source": [
    "myLr = lin_reg()\n",
    "myLr.fit(X,y)"
   ]
  },
  {
   "cell_type": "code",
   "execution_count": 9,
   "metadata": {},
   "outputs": [
    {
     "data": {
      "text/plain": [
       "(array([4.39865867]), array([[2.79192448],\n",
       "        [2.01753934],\n",
       "        [0.21641422]]))"
      ]
     },
     "execution_count": 9,
     "metadata": {},
     "output_type": "execute_result"
    }
   ],
   "source": [
    "myLr.intercept,myLr.coef"
   ]
  },
  {
   "cell_type": "code",
   "execution_count": 12,
   "metadata": {},
   "outputs": [
    {
     "data": {
      "text/plain": [
       "array([[14.4181379 ],\n",
       "       [11.29049708],\n",
       "       [ 8.73765482],\n",
       "       [ 6.99559925],\n",
       "       [12.69255075]])"
      ]
     },
     "execution_count": 12,
     "metadata": {},
     "output_type": "execute_result"
    }
   ],
   "source": [
    "myLr.predict(X)[:5]"
   ]
  },
  {
   "cell_type": "code",
   "execution_count": 13,
   "metadata": {},
   "outputs": [
    {
     "data": {
      "text/plain": [
       "array([[15.10333682],\n",
       "       [ 8.75577159],\n",
       "       [ 8.27561064],\n",
       "       [ 8.85718829],\n",
       "       [11.70443013]])"
      ]
     },
     "execution_count": 13,
     "metadata": {},
     "output_type": "execute_result"
    }
   ],
   "source": [
    "y[:5]"
   ]
  },
  {
   "cell_type": "markdown",
   "metadata": {},
   "source": [
    "Regression with r2 regularization"
   ]
  },
  {
   "cell_type": "code",
   "execution_count": 14,
   "metadata": {},
   "outputs": [],
   "source": [
    "class myRidge:\n",
    "    def __init__(self,alpha):\n",
    "        self.alpha = alpha\n",
    "    def fit(self, X, y):\n",
    "        X_add1 = X\n",
    "        #X_add1 = np.column_stack((np.ones(X.shape[0]),X))\n",
    "        self.theta = np.linalg.pinv(X_add1.T.dot(X_add1)+self.alpha*np.identity(X_add1.shape[1])).dot(X_add1.T).dot(y)\n",
    "        self.intercept = self.theta[0]\n",
    "        self.coef = self.theta[1:]\n",
    "        return self\n",
    "    def predict(self, X):\n",
    "        new_matrix = np.repeat(self.coef, X.shape[0], axis = 1).T.dot(X.T) + self.intercept\n",
    "        return new_matrix[0].T.reshape((X.shape[0],1))\n",
    "    "
   ]
  },
  {
   "cell_type": "code",
   "execution_count": 15,
   "metadata": {},
   "outputs": [
    {
     "data": {
      "text/plain": [
       "(array([4.11194643]), array([[2.86102465],\n",
       "        [1.04108466]]))"
      ]
     },
     "execution_count": 15,
     "metadata": {},
     "output_type": "execute_result"
    }
   ],
   "source": [
    "myRi = myRidge(alpha=1)\n",
    "myRi.fit(X,y)\n",
    "myRi.intercept, myRi.coef"
   ]
  },
  {
   "cell_type": "code",
   "execution_count": 16,
   "metadata": {},
   "outputs": [
    {
     "data": {
      "text/plain": [
       "(0.0, array([[4.11194643, 2.86102465, 1.04108466]]))"
      ]
     },
     "execution_count": 16,
     "metadata": {},
     "output_type": "execute_result"
    }
   ],
   "source": [
    "from sklearn.linear_model import Ridge\n",
    "rid = Ridge(alpha=1, fit_intercept = False)\n",
    "rid.fit(X,y)\n",
    "rid.intercept_, rid.coef_"
   ]
  },
  {
   "cell_type": "code",
   "execution_count": null,
   "metadata": {},
   "outputs": [],
   "source": []
  }
 ],
 "metadata": {
  "kernelspec": {
   "display_name": "Python 3 (ipykernel)",
   "language": "python",
   "name": "python3"
  },
  "language_info": {
   "codemirror_mode": {
    "name": "ipython",
    "version": 3
   },
   "file_extension": ".py",
   "mimetype": "text/x-python",
   "name": "python",
   "nbconvert_exporter": "python",
   "pygments_lexer": "ipython3",
   "version": "3.7.13"
  }
 },
 "nbformat": 4,
 "nbformat_minor": 2
}
